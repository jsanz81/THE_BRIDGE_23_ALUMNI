{
 "cells": [
  {
   "cell_type": "markdown",
   "metadata": {},
   "source": [
    "# Bus\n",
    "\n",
    "Este bus tiene un sistema de control de subida y bajada de pasajeros para monitorizar el número de ocupantes que lleva y así detectar cuando hay un aforo demasiado alto. \n",
    "\n",
    "En cada parada la subida y bajada de pasajeros se representa por una tupla compuesta por dos números enteros. \n",
    "```\n",
    "bus_stop = (in, out)\n",
    "```\n",
    "La sucesión de paradas se representa con una lista estas tuplas.\n",
    "```\n",
    "stops = [(in1, out1), (in2, out2), (in3, out3), (in4, out4)]\n",
    "```\n",
    "\n",
    "## Objetivos: \n",
    "* listas, tuplas\n",
    "* bucles while/for\n",
    "* mínimo, máximo, longitud\n",
    "* media, desviación estandard\n",
    "\n",
    "## Tareas\n",
    "1. Calcula el número de paradas. \n",
    "2. Asigna a una variable una lista cuyos elementos sean el número de pasajeros en cada parada (in-out), \n",
    "3. Halla el máximo de ocupación del autobús. \n",
    "4. Calcula la media de la ocupación. Y la desviación estandard. \n"
   ]
  },
  {
   "cell_type": "code",
   "execution_count": 7,
   "metadata": {},
   "outputs": [
    {
     "name": "stdout",
     "output_type": "stream",
     "text": [
      "9  Paradas\n",
      "[10, 3, -2, -1, 4, -4, -3, -2, -1]\n",
      "Máxima ocupación  14\n",
      "Media:  0.44\n",
      "Desviación típica:  4.19\n"
     ]
    }
   ],
   "source": [
    "stops = [(10, 0), (4, 1), (3, 5), (3, 4), (5, 1), (1, 5), (5, 8), (4, 6), (2, 3)]\n",
    "\n",
    "# 1. Calcula el número de paradas. \n",
    "paradas=len(stops)\n",
    "print(len(stops),\" Paradas\")\n",
    "# 2. Asigna a una variable una lista cuyos elementos sean el número de pasajeros en \n",
    "# cada parada: Cada elemento depende del elemento previo en la lista + in - out.\n",
    "pasajeros=0 \n",
    "pasajeros_por_parada=list()\n",
    "for i in stops:\n",
    "     pasajeros_por_parada.append(i[0]-i[1])\n",
    "print(pasajeros_por_parada)\n",
    "\n",
    "# 3. Halla el máximo de ocupación del autobús. \n",
    "max_pasajeros=0\n",
    "contador=0\n",
    "for j in pasajeros_por_parada:\n",
    "    contador+=j\n",
    "    if contador>max_pasajeros:\n",
    "        max_pasajeros=contador\n",
    "print(\"Máxima ocupación \", max_pasajeros)\n",
    "\n",
    "# 4. Calcula la media de la ocupación. Y la desviación estandard. \n",
    "media=contador/paradas\n",
    "print(\"Media: \", round(media,2))\n",
    "#desviacion estándar\n",
    "\n",
    "    #diferencia entre dato y media\n",
    "    #elevar al cuadrado cada una\n",
    "    #sumar todos\n",
    "suma_diferencia_cuadrado=0\n",
    "for k in pasajeros_por_parada:\n",
    "    suma_diferencia_cuadrado+=(k-media)**2\n",
    "#print(\"suma dif media :\", suma_diferencia_cuadrado)\n",
    "    #calcular la media\n",
    "    #raiz cuadrada \n",
    "desviacion_tipica=(suma_diferencia_cuadrado/paradas)**0.5\n",
    "print(\"Desviación típica: \", round(desviacion_tipica,2))"
   ]
  },
  {
   "cell_type": "code",
   "execution_count": null,
   "metadata": {},
   "outputs": [],
   "source": []
  }
 ],
 "metadata": {
  "kernelspec": {
   "display_name": "Python 3",
   "language": "python",
   "name": "python3"
  },
  "language_info": {
   "codemirror_mode": {
    "name": "ipython",
    "version": 3
   },
   "file_extension": ".py",
   "mimetype": "text/x-python",
   "name": "python",
   "nbconvert_exporter": "python",
   "pygments_lexer": "ipython3",
   "version": "3.10.4"
  }
 },
 "nbformat": 4,
 "nbformat_minor": 2
}
