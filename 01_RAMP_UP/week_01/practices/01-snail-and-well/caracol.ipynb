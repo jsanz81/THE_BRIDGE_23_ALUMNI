{
 "cells": [
  {
   "cell_type": "markdown",
   "metadata": {},
   "source": [
    "# 01 - Caracol y el pozo\n",
    "\n",
    "Un caracol cae en el fondo de un pozo de 125 cm. Cada día el caracol sube 30 cm. pero por la noche, mientras duerme, resbala 20 cm debido a que las paredes son húmedas. ¿Cuantos días tarda en escapar del pozo?\n",
    "\n",
    "TIP: https://www.vix.com/es/btg/curiosidades/59215/acertijos-matematicos-el-caracol-en-el-pozo-facil\n",
    "\n",
    "TIP: http://puzzles.nigelcoldwell.co.uk/sixtytwo.htm"
   ]
  },
  {
   "cell_type": "markdown",
   "metadata": {},
   "source": [
    "## Solución"
   ]
  },
  {
   "cell_type": "code",
   "execution_count": 3,
   "metadata": {},
   "outputs": [
    {
     "name": "stdout",
     "output_type": "stream",
     "text": [
      "Dias:  11\n",
      "Distancia:  130\n"
     ]
    }
   ],
   "source": [
    "# Asigna los datos del problema a variables con nombres representativos\n",
    "# altura del pozo, avance diario, retroceso nocturno, distancia acumulada\n",
    "\n",
    "\n",
    "# Asigna 0 a la variable que representa la solución\n",
    "dias=0\n",
    "distancia=0\n",
    "\n",
    "# Escribe el código que soluciona el problema\n",
    "\n",
    "while distancia < 125:\n",
    "    dias=dias+1\n",
    "    distancia=distancia+30\n",
    "    if distancia<125: #salir de los dos bucles\n",
    "        distancia=distancia-20\n",
    "else:\n",
    "     # Imprime el resultado con print('Dias =', dias)\n",
    "     print(\"Dias: \", dias)\n",
    "     print(\"Distancia: \", distancia)\n",
    "\n"
   ]
  },
  {
   "cell_type": "markdown",
   "metadata": {},
   "source": [
    "## Objetivos\n",
    "\n",
    "1. Tratamiento de variables\n",
    "2. Uso de bucle **while**\n",
    "3. Uso de condicionales **if-else**\n",
    "4. Imprimir por consola"
   ]
  },
  {
   "cell_type": "markdown",
   "metadata": {},
   "source": [
    "## Bonus\n",
    "La distancia recorrida por el caracol viene ahora definida por una lista. \n",
    "```\n",
    "avance_cm = [30, 21, 33, 77, 44, 45, 23, 45, 12, 34, 55]\n",
    "```\n",
    "¿Cuánto tarda en subir el pozo?\n",
    "¿Cuál es su máximo de desplazamiento en un día? ¿Y su mínimo?\n",
    "¿Cuál es su media de velocidad durante el día?\n",
    "¿Cuál es la desviación típica de su desplazamiento durante el día?"
   ]
  },
  {
   "cell_type": "code",
   "execution_count": 2,
   "metadata": {},
   "outputs": [
    {
     "name": "stdout",
     "output_type": "stream",
     "text": [
      "Días:  5\n",
      "Máximo avance:  77\n",
      "Mínimo avance:  12\n",
      "Media de avance en salir del pozo:  25.0\n",
      "Desviación típica:  32.01\n"
     ]
    }
   ],
   "source": [
    "# Asigna los datos del problema a variables con nombres representativos\n",
    "\n",
    "avance_cm = [30, 21, 33, 77, 44, 45, 23, 45, 12, 34, 55]\n",
    "\n",
    "# altura del pozo, avance diario, retroceso nocturno, distancia acumulada\n",
    "avance_diario=0\n",
    "retroceso_nocturno=20\n",
    "altura_del_pozo=125\n",
    "\n",
    "# Asigna 0 a la variable que representa la solución\n",
    "\n",
    "dias=0\n",
    "distancia_acumulada=0\n",
    "# Escribe el código que soluciona el problema\n",
    "for i in avance_cm:\n",
    "    dias+=1\n",
    "    distancia_acumulada+=i\n",
    "   # print(\"Dia \",dias,\" Distancia diaria \",i)\n",
    "   # print(\"distancia acumulada\", distancia_acumulada)\n",
    "    if distancia_acumulada>=125:\n",
    "        break\n",
    "    else:\n",
    "        distancia_acumulada-=20\n",
    "\n",
    "# Imprime el resultado con print('Dias =', dias)\n",
    "print(\"Días: \", dias)\n",
    "\n",
    "\n",
    "# ¿Cuál es su máximo de desplazamiento en un día? ¿Y su mínimo?\n",
    "\n",
    "max=avance_cm[0]\n",
    "min=avance_cm[0]\n",
    "total=0\n",
    "for i in avance_cm:\n",
    "    total+=i #distancia total\n",
    "    if i>max:\n",
    "        max=i #avance máximo hasta el momento\n",
    "    if i<min:\n",
    "        min=i #avance mínimo hasta el momento\n",
    "print(\"Máximo avance: \",max)\n",
    "print(\"Mínimo avance: \",min)\n",
    "\n",
    "# ¿Cuál es su media de avance?\n",
    "#calculo la media de los días que tarda en salir del pozo\n",
    "\n",
    "media=distancia_acumulada/dias\n",
    "#media_total=total/len(avance_cm)\n",
    "\n",
    "print(\"Media de avance en salir del pozo: \", round(media,2))\n",
    "#print(\"Media de avance en 11 días: \", round(media_total),2)\n",
    "\n",
    "# ¿Cuál es la desviación típica de su desplazamiento durante el día?\n",
    "    #cuánto se desvían de la media los valores de la lista\n",
    "\n",
    "    #diferencia entre dato y media\n",
    "    #elevar al cuadrado cada una\n",
    "    #sumar todos\n",
    "suma_diferencia_cuadrado=0\n",
    "for k in avance_cm:\n",
    "    suma_diferencia_cuadrado+=(k-media)**2\n",
    "#print(\"suma dif media :\", suma_diferencia_cuadrado)\n",
    "    #calcular la media\n",
    "    #raiz cuadrada \n",
    "desviacion_tipica=(suma_diferencia_cuadrado/dias)**0.5\n",
    "print(\"Desviación típica: \", round(desviacion_tipica,2))"
   ]
  }
 ],
 "metadata": {
  "kernelspec": {
   "display_name": "Python 3",
   "language": "python",
   "name": "python3"
  },
  "language_info": {
   "codemirror_mode": {
    "name": "ipython",
    "version": 3
   },
   "file_extension": ".py",
   "mimetype": "text/x-python",
   "name": "python",
   "nbconvert_exporter": "python",
   "pygments_lexer": "ipython3",
   "version": "3.9.5"
  }
 },
 "nbformat": 4,
 "nbformat_minor": 4
}
