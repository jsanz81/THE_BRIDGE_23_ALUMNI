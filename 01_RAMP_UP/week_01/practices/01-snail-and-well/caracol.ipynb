{
 "cells": [
  {
   "cell_type": "markdown",
   "metadata": {},
   "source": [
    "# 01 - Caracol y el pozo\n",
    "\n",
    "Un caracol cae en el fondo de un pozo de 125 cm. Cada día el caracol sube 30 cm. pero por la noche, mientras duerme, resbala 20 cm debido a que las paredes son húmedas. ¿Cuantos días tarda en escapar del pozo?\n",
    "\n",
    "TIP: https://www.vix.com/es/btg/curiosidades/59215/acertijos-matematicos-el-caracol-en-el-pozo-facil\n",
    "\n",
    "TIP: http://puzzles.nigelcoldwell.co.uk/sixtytwo.htm"
   ]
  },
  {
   "cell_type": "markdown",
   "metadata": {},
   "source": [
    "## Solución"
   ]
  },
  {
   "cell_type": "code",
   "execution_count": null,
   "metadata": {},
   "outputs": [],
   "source": [
    "# Asigna los datos del problema a variables con nombres representativos\n",
    "# altura del pozo, avance diario, retroceso nocturno, distancia acumulada\n",
    "\n",
    "\n",
    "# Asigna 0 a la variable que representa la solución\n",
    "dias=0\n",
    "distancia=0\n",
    "\n",
    "# Escribe el código que soluciona el problema\n",
    "\n",
    "while distancia < 125:\n",
    "    dias=dias+1\n",
    "    distancia=distancia+30\n",
    "    if distancia<125: #salir de los dos bucles\n",
    "        distancia=distancia-20\n",
    "else:\n",
    "     # Imprime el resultado con print('Dias =', dias)\n",
    "     print(\"Dias: \", dias)\n",
    "     print(\"Distancia: \", distancia)\n",
    "\n"
   ]
  },
  {
   "cell_type": "markdown",
   "metadata": {},
   "source": [
    "## Objetivos\n",
    "\n",
    "1. Tratamiento de variables\n",
    "2. Uso de bucle **while**\n",
    "3. Uso de condicionales **if-else**\n",
    "4. Imprimir por consola"
   ]
  },
  {
   "cell_type": "markdown",
   "metadata": {},
   "source": [
    "## Bonus\n",
    "La distancia recorrida por el caracol viene ahora definida por una lista. \n",
    "```\n",
    "avance_cm = [30, 21, 33, 77, 44, 45, 23, 45, 12, 34, 55]\n",
    "```\n",
    "¿Cuánto tarda en subir el pozo?\n",
    "¿Cuál es su máximo de desplazamiento en un día? ¿Y su mínimo?\n",
    "¿Cuál es su media de velocidad durante el día?\n",
    "¿Cuál es la desviación típica de su desplazamiento durante el día?"
   ]
  },
  {
   "cell_type": "code",
   "execution_count": null,
   "metadata": {},
   "outputs": [],
   "source": [
    "# Asigna los datos del problema a variables con nombres representativos\n",
    "\n",
    "avance_cm = [30, 21, 33, 77, 44, 45, 23, 45, 12, 34, 55]\n",
    "\n",
    "# altura del pozo, avance diario, retroceso nocturno, distancia acumulada\n",
    "avance_diario=0\n",
    "retroceso_nocturno=20\n",
    "altura_del_pozo=125\n",
    "\n",
    "# Asigna 0 a la variable que representa la solución\n",
    "\n",
    "dias=0\n",
    "distancia_acumulada=0\n",
    "# Escribe el código que soluciona el problema\n",
    "for i in avance_cm:\n",
    "    dias+=1\n",
    "    distancia_acumulada+=i\n",
    "   # print(\"Dia \",dias,\" Distancia diaria \",i)\n",
    "   # print(\"distancia acumulada\", distancia_acumulada)\n",
    "    if distancia_acumulada>=125:\n",
    "        break\n",
    "    else:\n",
    "        distancia_acumulada-=20\n",
    "\n",
    "# Imprime el resultado con print('Dias =', dias)\n",
    "print(\"Días: \", dias)\n",
    "\n",
    "\n",
    "# ¿Cuál es su máximo de desplazamiento en un día? ¿Y su mínimo?\n",
    "\n",
    "max=avance_cm[0]\n",
    "min=avance_cm[0]\n",
    "total=0\n",
    "for i in avance_cm:\n",
    "    total+=i #distancia total\n",
    "    if i>max:\n",
    "        max=i #avance másimo hasta el momento\n",
    "    if i<min:\n",
    "        min=i\n",
    "print(\"Máximo avance: \",max)\n",
    "print(\"Mínimo avance: \",min)\n",
    "\n",
    "# ¿Cuál es su media de avance?\n",
    "print(\"Media avance en salir del pozo: \", round((distancia_acumulada/dias),2))\n",
    "print(\"Media de avance en 11 días: \", round(total/len(avance_cm),2))\n",
    "\n",
    "# ¿Cuál es la desviación típica de su desplazamiento durante el día?\n",
    "    #cuánto se desvían de la media los valores de la lista\n",
    "#import numpy\n",
    "#sd=numpy.std(avance_cm)\n",
    "#print(\"desviación tipica: \", sd)"
   ]
  }
 ],
 "metadata": {
  "kernelspec": {
   "display_name": "Python 3",
   "language": "python",
   "name": "python3"
  },
  "language_info": {
   "codemirror_mode": {
    "name": "ipython",
    "version": 3
   },
   "file_extension": ".py",
   "mimetype": "text/x-python",
   "name": "python",
   "nbconvert_exporter": "python",
   "pygments_lexer": "ipython3",
   "version": "3.8.6"
  }
 },
 "nbformat": 4,
 "nbformat_minor": 4
}
