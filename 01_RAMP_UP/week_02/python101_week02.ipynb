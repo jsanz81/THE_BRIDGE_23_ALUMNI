{
 "cells": [
  {
   "attachments": {},
   "cell_type": "markdown",
   "metadata": {},
   "source": [
    "# Diccionarios\n",
    "\n",
    "- dict()\n",
    "- {}\n",
    "  \n",
    "Obtenemos pares de clave-valor (key:value)"
   ]
  },
  {
   "attachments": {},
   "cell_type": "markdown",
   "metadata": {},
   "source": [
    "```\n",
    "{\n",
    "    \"key\" : \"value\",\n",
    "    \"otro_key\" : 1,\n",
    "    \"key_3\" : True,\n",
    "    \"key_4\": None,\n",
    "    \"KEY_5\" : 5.6,\n",
    "    \"lista\" : [1, 2, 3, 4],\n",
    "    \"tupla\" : (56, 78),\n",
    "    \"otro_dict\" : {\"A\": 1, \"B\": 2}\n",
    "\n",
    "}\n",
    "\n",
    "```"
   ]
  },
  {
   "cell_type": "code",
   "execution_count": 1,
   "metadata": {},
   "outputs": [
    {
     "data": {
      "text/plain": [
       "[31, 'Maria', True, 'Madrid']"
      ]
     },
     "execution_count": 1,
     "metadata": {},
     "output_type": "execute_result"
    }
   ],
   "source": [
    "# Creamos una lista\n",
    "nueva_lista = [31, \"Maria\", True, \"Madrid\"]\n",
    "nueva_lista"
   ]
  },
  {
   "cell_type": "code",
   "execution_count": 2,
   "metadata": {},
   "outputs": [
    {
     "data": {
      "text/plain": [
       "{'nombre': 'Maria', 'edad': 31, 'mascota': True, 'ciudad': 'Madrid'}"
      ]
     },
     "execution_count": 2,
     "metadata": {},
     "output_type": "execute_result"
    }
   ],
   "source": [
    "# Creamos un nuevo diccionario\n",
    "estudiantes_dict = {\n",
    "    \"nombre\" : nueva_lista[1],\n",
    "    \"edad\" : nueva_lista[0],\n",
    "    \"mascota\" : nueva_lista[2],\n",
    "    \"ciudad\" : nueva_lista[3] \n",
    "}\n",
    "estudiantes_dict"
   ]
  },
  {
   "cell_type": "code",
   "execution_count": 3,
   "metadata": {},
   "outputs": [
    {
     "data": {
      "text/plain": [
       "dict"
      ]
     },
     "execution_count": 3,
     "metadata": {},
     "output_type": "execute_result"
    }
   ],
   "source": [
    "type(estudiantes_dict)"
   ]
  },
  {
   "cell_type": "code",
   "execution_count": 4,
   "metadata": {},
   "outputs": [
    {
     "data": {
      "text/plain": [
       "dict_keys(['nombre', 'edad', 'mascota', 'ciudad'])"
      ]
     },
     "execution_count": 4,
     "metadata": {},
     "output_type": "execute_result"
    }
   ],
   "source": [
    "# Mostramos todos los keys\n",
    "estudiantes_dict.keys()"
   ]
  },
  {
   "cell_type": "code",
   "execution_count": 5,
   "metadata": {},
   "outputs": [
    {
     "data": {
      "text/plain": [
       "dict_values(['Maria', 31, True, 'Madrid'])"
      ]
     },
     "execution_count": 5,
     "metadata": {},
     "output_type": "execute_result"
    }
   ],
   "source": [
    "# Mostramos todos los values\n",
    "estudiantes_dict.values()"
   ]
  },
  {
   "cell_type": "code",
   "execution_count": 6,
   "metadata": {},
   "outputs": [
    {
     "data": {
      "text/plain": [
       "dict_items([('nombre', 'Maria'), ('edad', 31), ('mascota', True), ('ciudad', 'Madrid')])"
      ]
     },
     "execution_count": 6,
     "metadata": {},
     "output_type": "execute_result"
    }
   ],
   "source": [
    "# Mostramos todos los pares en forma de tupla\n",
    "estudiantes_dict.items()"
   ]
  },
  {
   "cell_type": "code",
   "execution_count": 7,
   "metadata": {},
   "outputs": [
    {
     "data": {
      "text/plain": [
       "31"
      ]
     },
     "execution_count": 7,
     "metadata": {},
     "output_type": "execute_result"
    }
   ],
   "source": [
    "nueva_lista[0]"
   ]
  },
  {
   "cell_type": "code",
   "execution_count": 12,
   "metadata": {},
   "outputs": [
    {
     "data": {
      "text/plain": [
       "[('nombre', 'Maria')]"
      ]
     },
     "execution_count": 12,
     "metadata": {},
     "output_type": "execute_result"
    }
   ],
   "source": [
    "nuevo_item = [('nombre', 'Maria')]\n",
    "nuevo_item"
   ]
  },
  {
   "cell_type": "code",
   "execution_count": 13,
   "metadata": {},
   "outputs": [
    {
     "data": {
      "text/plain": [
       "list"
      ]
     },
     "execution_count": 13,
     "metadata": {},
     "output_type": "execute_result"
    }
   ],
   "source": [
    "type(nuevo_item)"
   ]
  },
  {
   "cell_type": "code",
   "execution_count": 14,
   "metadata": {},
   "outputs": [
    {
     "data": {
      "text/plain": [
       "('nombre', 'Maria')"
      ]
     },
     "execution_count": 14,
     "metadata": {},
     "output_type": "execute_result"
    }
   ],
   "source": [
    "nuevo_item[0]"
   ]
  },
  {
   "cell_type": "code",
   "execution_count": 8,
   "metadata": {},
   "outputs": [
    {
     "ename": "KeyError",
     "evalue": "0",
     "output_type": "error",
     "traceback": [
      "\u001b[1;31m---------------------------------------------------------------------------\u001b[0m",
      "\u001b[1;31mKeyError\u001b[0m                                  Traceback (most recent call last)",
      "Cell \u001b[1;32mIn[8], line 1\u001b[0m\n\u001b[1;32m----> 1\u001b[0m estudiantes_dict[\u001b[39m0\u001b[39;49m]\n",
      "\u001b[1;31mKeyError\u001b[0m: 0"
     ]
    }
   ],
   "source": [
    "estudiantes_dict[0]"
   ]
  },
  {
   "cell_type": "code",
   "execution_count": 16,
   "metadata": {},
   "outputs": [
    {
     "data": {
      "text/plain": [
       "'Madrid'"
      ]
     },
     "execution_count": 16,
     "metadata": {},
     "output_type": "execute_result"
    }
   ],
   "source": [
    "estudiantes_dict['ciudad']"
   ]
  },
  {
   "cell_type": "code",
   "execution_count": 17,
   "metadata": {},
   "outputs": [
    {
     "data": {
      "text/plain": [
       "{'nombre': 'Maria', 'edad': 31, 'mascota': True, 'ciudad': 'Barcelona'}"
      ]
     },
     "execution_count": 17,
     "metadata": {},
     "output_type": "execute_result"
    }
   ],
   "source": [
    "estudiantes_dict['ciudad'] = 'Barcelona'\n",
    "estudiantes_dict"
   ]
  },
  {
   "attachments": {},
   "cell_type": "markdown",
   "metadata": {},
   "source": [
    "```\n",
    "diccionario = {\n",
    "    \"estudiantes\" : [\n",
    "        {\n",
    "            \"nombre\": \"Maria\",\n",
    "            \"nota\" : \"B\"\n",
    "        },\n",
    "        {\n",
    "            \"nombre\" : \"Roberto\",\n",
    "            \"nota\" : \"A\"\n",
    "        }\n",
    "    ]\n",
    "}\n",
    "\n",
    "```"
   ]
  },
  {
   "attachments": {},
   "cell_type": "markdown",
   "metadata": {},
   "source": [
    "## Flujo de control (Flow Control)\n",
    "\n",
    "```\n",
    "IF...ELIF....ELSE\n",
    "```\n",
    "\n",
    "```\n",
    "SI tal objeto cumple una determinada condición:\n",
    "    execute código\n",
    "ENTONCES SI pasara algo diferente:\n",
    "    hace otra cosa\n",
    "EN caso contrario:\n",
    "    sal del programa o alternativa\n",
    "```"
   ]
  },
  {
   "attachments": {},
   "cell_type": "markdown",
   "metadata": {},
   "source": [
    "Utilizamos siempre los operadores de comparativas:\n",
    "* `>` mayor que\n",
    "* `<` menor que\n",
    "* `=<` menor o igual\n",
    "* `>=` mayor o igual\n",
    "* `==` igual estricto, evalua los elementos o valores\n",
    "* `is` igual de objeto\n",
    "* `not` / `!=` no es igual\n",
    "* `in` el elemento se encuentra en este objeto"
   ]
  },
  {
   "cell_type": "code",
   "execution_count": 18,
   "metadata": {},
   "outputs": [
    {
     "name": "stdout",
     "output_type": "stream",
     "text": [
      "Hola Mario\n"
     ]
    }
   ],
   "source": [
    "nombre = \"Mario\"\n",
    "if nombre == 'Mario':\n",
    "    print(f\"Hola {nombre}\")"
   ]
  },
  {
   "cell_type": "code",
   "execution_count": 19,
   "metadata": {},
   "outputs": [
    {
     "name": "stdout",
     "output_type": "stream",
     "text": [
      "es Mario\n"
     ]
    }
   ],
   "source": [
    "if nombre == 'Lucas':\n",
    "    print(\"Es otro alumno\")\n",
    "else:\n",
    "    print(\"es {}\".format(nombre))"
   ]
  },
  {
   "cell_type": "code",
   "execution_count": 21,
   "metadata": {},
   "outputs": [
    {
     "name": "stdout",
     "output_type": "stream",
     "text": [
      "Hola Mario es de Madrid !\n"
     ]
    }
   ],
   "source": [
    "nombre = \"Mario\"\n",
    "ciudad = \"Madrid\"\n",
    "if nombre == \"Mario\":\n",
    "    print(\"Hola {0} es de {1} !\".format(nombre, ciudad))"
   ]
  },
  {
   "cell_type": "code",
   "execution_count": 22,
   "metadata": {},
   "outputs": [],
   "source": [
    "anyo = 2022\n",
    "nombre = \"Mario\"\n",
    "edad = 30"
   ]
  },
  {
   "cell_type": "code",
   "execution_count": 23,
   "metadata": {},
   "outputs": [
    {
     "name": "stdout",
     "output_type": "stream",
     "text": [
      "\n",
      "        Hola Mario bienvenido en 2022 \n",
      "        este año cumplirás 30 anyos!\n",
      "        \n"
     ]
    }
   ],
   "source": [
    "if anyo: # en este caso la evaluación es False porque tenemos un None en anyo.\n",
    "    print(\n",
    "        \"\"\"\n",
    "        Hola {1} bienvenido en {0} \n",
    "        este año cumplirás {2} anyos!\n",
    "        \"\"\".format(anyo, nombre, edad)\n",
    "        )\n",
    "else:\n",
    "    pass"
   ]
  },
  {
   "cell_type": "code",
   "execution_count": 24,
   "metadata": {},
   "outputs": [
    {
     "name": "stdout",
     "output_type": "stream",
     "text": [
      "no tenemos asignado un valor en anyo\n"
     ]
    }
   ],
   "source": [
    "anyo = None\n",
    "nombre = \"Mario\"\n",
    "if anyo: # en este caso la evaluación es False porque tenemos un None en anyo.\n",
    "    print(f\"Hola {nombre} bienvenido en {anyo} !\")\n",
    "# Al tener un valor None anyo, devolverá False\n",
    "else:\n",
    "    print(\"no tenemos asignado un valor en anyo\")"
   ]
  },
  {
   "cell_type": "code",
   "execution_count": 28,
   "metadata": {},
   "outputs": [
    {
     "name": "stdout",
     "output_type": "stream",
     "text": [
      "Qué gusto verte Mario\n"
     ]
    }
   ],
   "source": [
    "anyo = 2021\n",
    "\n",
    "if anyo == 2022:\n",
    "    print(f\"Hola {nombre} bienvenido en {anyo} !\")\n",
    "elif anyo == 2023 and nombre == \"Mario\":\n",
    "    print(f\"Hola {nombre} bienvenido en {anyo} !\")\n",
    "elif anyo or nombre != \"Mario\":\n",
    "    print(f\"Qué gusto verte {nombre}\")\n",
    "else:\n",
    "    print(\"El anyo está erronea!\")"
   ]
  },
  {
   "cell_type": "code",
   "execution_count": 29,
   "metadata": {},
   "outputs": [
    {
     "name": "stdout",
     "output_type": "stream",
     "text": [
      "x es mayor que y\n"
     ]
    }
   ],
   "source": [
    "x = 10\n",
    "y = 5\n",
    "\n",
    "if x == y:\n",
    "    print(\"x e y son iguales\")\n",
    "else:\n",
    "    if x < y:\n",
    "        print(\"x es menor que y\")\n",
    "    else:\n",
    "        print(\"x es mayor que y\")"
   ]
  },
  {
   "cell_type": "code",
   "execution_count": 30,
   "metadata": {},
   "outputs": [
    {
     "name": "stdout",
     "output_type": "stream",
     "text": [
      "x es mayor que y\n"
     ]
    }
   ],
   "source": [
    "# Alternativa\n",
    "if x == y:\n",
    "    print(\"x e y son iguales\")\n",
    "elif x < y:\n",
    "    print(\"x es menor que y\")\n",
    "else:\n",
    "    print(\"x es mayor que y\")"
   ]
  },
  {
   "cell_type": "code",
   "execution_count": 31,
   "metadata": {},
   "outputs": [
    {
     "name": "stdout",
     "output_type": "stream",
     "text": [
      "es negativo\n"
     ]
    }
   ],
   "source": [
    "falso = False\n",
    "positivo = True\n",
    "if positivo != True:\n",
    "    print(\"es positivo\")\n",
    "else:\n",
    "    print(\"es negativo\")"
   ]
  },
  {
   "cell_type": "code",
   "execution_count": 32,
   "metadata": {},
   "outputs": [
    {
     "name": "stdout",
     "output_type": "stream",
     "text": [
      "es negativo\n"
     ]
    }
   ],
   "source": [
    "falso = False\n",
    "positivo = True\n",
    "if not positivo:\n",
    "    print(\"es positivo\")\n",
    "else:\n",
    "    print(\"es negativo\")"
   ]
  },
  {
   "attachments": {},
   "cell_type": "markdown",
   "metadata": {},
   "source": [
    "# While ... do\n",
    "\n",
    "cuando queremos que la aplicación se ejecute siempre y cuando la condición\n",
    "es positiva, entonces ejecutamos el `while` al infinito.\n",
    "\n",
    "```\n",
    "WHILE mientras la condición proporcionada sea VERDADERA o FALSA:\n",
    "    ejecuta el programa\n",
    "\n",
    "no hay fin de la aplicación hasta darle la condición de STOP.\n",
    "```"
   ]
  },
  {
   "cell_type": "code",
   "execution_count": 33,
   "metadata": {},
   "outputs": [],
   "source": [
    "condition = True\n",
    "# while condition:\n",
    "#     print(\"Hola\")\n",
    "\n",
    "# OJO esto da lugar a un bucle infinito."
   ]
  },
  {
   "cell_type": "code",
   "execution_count": 34,
   "metadata": {},
   "outputs": [],
   "source": [
    "while not condition:\n",
    "    print(\"hola\")"
   ]
  },
  {
   "cell_type": "code",
   "execution_count": null,
   "metadata": {},
   "outputs": [],
   "source": [
    "capacidad_metro = 100\n",
    "pasajeros_actuales = 15\n",
    "\n",
    "\"\"\"\n",
    "Queremos que al subir un pasajer muestre el total actual de pasajeros y el restante hasta llegar a\n",
    "la capacidad máxima.\n",
    "Utilizar una condición entre while, if, for\n",
    "Al llegar al final imprimir el resultado total y salir de la aplicación\n",
    "\"\"\"\n",
    "\n",
    "# pasajeros_actuales += 1\n"
   ]
  }
 ],
 "metadata": {
  "kernelspec": {
   "display_name": "ramp_up_py395",
   "language": "python",
   "name": "python3"
  },
  "language_info": {
   "codemirror_mode": {
    "name": "ipython",
    "version": 3
   },
   "file_extension": ".py",
   "mimetype": "text/x-python",
   "name": "python",
   "nbconvert_exporter": "python",
   "pygments_lexer": "ipython3",
   "version": "3.9.5"
  },
  "orig_nbformat": 4
 },
 "nbformat": 4,
 "nbformat_minor": 2
}
