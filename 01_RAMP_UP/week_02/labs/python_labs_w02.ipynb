{
 "cells": [
  {
   "attachments": {},
   "cell_type": "markdown",
   "metadata": {},
   "source": [
    "# Ejercicios para repasar list, dict, tuple, for, while, if\n"
   ]
  },
  {
   "cell_type": "code",
   "execution_count": 53,
   "metadata": {},
   "outputs": [
    {
     "name": "stdout",
     "output_type": "stream",
     "text": [
      "2\n",
      "4\n",
      "6\n",
      "8\n",
      "10\n"
     ]
    }
   ],
   "source": [
    "#1. Dada una lista de números, utiliza un bucle for para imprimir solo los números pares.\n",
    "\n",
    "numbers = [1, 2, 3, 4, 5, 6, 7, 8, 9, 10]\n",
    "\n",
    "for i in numbers[1::2]:\n",
    "    print(i)"
   ]
  },
  {
   "cell_type": "code",
   "execution_count": 54,
   "metadata": {},
   "outputs": [
    {
     "name": "stdout",
     "output_type": "stream",
     "text": [
      "1\n",
      "3\n",
      "5\n",
      "7\n",
      "9\n"
     ]
    }
   ],
   "source": [
    "#2. Dada una lista de números, utiliza un bucle while para imprimir solo los números impares.\n",
    "\n",
    "numbers = [1, 2, 3, 4, 5, 6, 7, 8, 9, 10]\n",
    "for i in numbers[::2]:\n",
    "    print(i)"
   ]
  },
  {
   "cell_type": "code",
   "execution_count": 55,
   "metadata": {},
   "outputs": [
    {
     "name": "stdout",
     "output_type": "stream",
     "text": [
      "platano\n",
      "kiwi\n"
     ]
    }
   ],
   "source": [
    "#3. Dado un diccionario de frutas y sus precios, utiliza un bucle for para imprimir solo las frutas con precios mayores a 2.\n",
    "\n",
    "fruits = {\"manzana\": 1.5, \"naranja\": 2.0, \"platano\": 3.0, \"kiwi\": 2.5}\n",
    "claves=fruits\n",
    "for i in claves: #for recorre todas las claves\n",
    "    if fruits[i]>2: #si el valor de esa clave es > 2  imprimir clave\n",
    "       print(i)"
   ]
  },
  {
   "cell_type": "code",
   "execution_count": 56,
   "metadata": {},
   "outputs": [
    {
     "name": "stdout",
     "output_type": "stream",
     "text": [
      "Juan\n",
      "Julia\n"
     ]
    }
   ],
   "source": [
    "#4. Dada una lista de nombres, utiliza un bucle while para imprimir el primer nombre que comience con \"J\".\n",
    "\n",
    "names = [\"Ana\", \"Pedro\", \"Juan\", \"Maria\", \"Julia\"]\n",
    "for i in names:\n",
    "        if i[0]==\"J\": print(i)"
   ]
  },
  {
   "cell_type": "code",
   "execution_count": 57,
   "metadata": {},
   "outputs": [
    {
     "name": "stdout",
     "output_type": "stream",
     "text": [
      "25\n"
     ]
    }
   ],
   "source": [
    "#5. Dada una lista de números, utiliza un bucle for para calcular la suma de los números impares.\n",
    "\n",
    "numbers = [1, 2, 3, 4, 5, 6, 7, 8, 9, 10]\n",
    "suma_impar=0\n",
    "for i in numbers:\n",
    "    if i%2!=0: suma_impar+=i\n",
    "print(suma_impar)"
   ]
  },
  {
   "cell_type": "code",
   "execution_count": 2,
   "metadata": {},
   "outputs": [],
   "source": [
    "#6. Dado un diccionario de frutas y sus precios, utiliza un bucle while para calcular el precio total de todas las frutas con precios menores a 2.\n",
    "\n",
    "fruits = {\"manzana\": 1.5, \"naranja\": 2.0, \"platano\": 1.0, \"kiwi\": 0.5}"
   ]
  },
  {
   "cell_type": "code",
   "execution_count": null,
   "metadata": {},
   "outputs": [
    {
     "name": "stdout",
     "output_type": "stream",
     "text": [
      "Pedro\n",
      "Maria\n",
      "Julia\n"
     ]
    }
   ],
   "source": [
    "#7. Dada una lista de nombres, utiliza un bucle for para imprimir solo los nombres que tengan más de 4 letras.\n",
    "\n",
    "names = [\"Ana\", \"Pedro\", \"Juan\", \"Maria\", \"Julia\"]\n",
    "for i in names:\n",
    "    if len(i)>4: print(i)"
   ]
  },
  {
   "cell_type": "code",
   "execution_count": null,
   "metadata": {},
   "outputs": [
    {
     "name": "stdout",
     "output_type": "stream",
     "text": [
      "6\n"
     ]
    }
   ],
   "source": [
    "#8. Dada una lista de números, utiliza un bucle while para imprimir el primer número que sea mayor a 5.\n",
    "\n",
    "numbers = [1, 2, 3, 4, 5, 6, 7, 8, 9, 10]\n",
    "for i in numbers:\n",
    "    if i>5:\n",
    "        print(i)\n",
    "        break"
   ]
  },
  {
   "cell_type": "code",
   "execution_count": null,
   "metadata": {},
   "outputs": [
    {
     "name": "stdout",
     "output_type": "stream",
     "text": [
      "Fruta mas cara:  platano ,  3.0 €\n"
     ]
    }
   ],
   "source": [
    "#9. Dado un diccionario de frutas y sus precios, utiliza un bucle for para imprimir la fruta más cara.\n",
    "\n",
    "fruits = {\"manzana\": 1.5, \"naranja\": 2.0, \"platano\": 3.0, \"kiwi\": 2.5}\n",
    "precio_mayor=0\n",
    "key_mayor=\"\"\n",
    "\n",
    "for i in fruits:\n",
    "    if fruits[i] > precio_mayor:\n",
    "        precio_mayor=fruits[i]\n",
    "        key_mayor=i\n",
    "print(\"Fruta mas cara: \",key_mayor, \", \", precio_mayor, \"€\" )\n"
   ]
  },
  {
   "cell_type": "code",
   "execution_count": null,
   "metadata": {},
   "outputs": [
    {
     "name": "stdout",
     "output_type": "stream",
     "text": [
      "3\n",
      "6\n",
      "9\n"
     ]
    }
   ],
   "source": [
    "#11. Dada una lista de números, utiliza un bucle while para imprimir solo los números que sean divisibles por 3.\n",
    "\n",
    "numbers = [1, 2, 3, 4, 5, 6, 7, 8, 9, 10]\n",
    "for i in numbers:\n",
    "    if i%3==0: print(i)"
   ]
  },
  {
   "cell_type": "code",
   "execution_count": null,
   "metadata": {},
   "outputs": [
    {
     "name": "stdout",
     "output_type": "stream",
     "text": [
      "manzana\n",
      "naranja\n",
      "platano\n"
     ]
    }
   ],
   "source": [
    "#12. Dado un diccionario de frutas y sus precios, utiliza un bucle for para imprimir solo las frutas que tengan una longitud de nombre mayor a 5.\n",
    "\n",
    "fruits = {\"manzana\": 1.5, \"naranja\": 2.0, \"platano\": 3.0, \"kiwi\": 2.5}\n",
    "for i in fruits:\n",
    "    if len(i)>5: print(i)"
   ]
  },
  {
   "cell_type": "code",
   "execution_count": null,
   "metadata": {},
   "outputs": [
    {
     "name": "stdout",
     "output_type": "stream",
     "text": [
      "4\n",
      "5\n",
      "8\n",
      "10\n"
     ]
    }
   ],
   "source": [
    "#13. Dada una lista de números, utiliza un bucle for para imprimir solo los números que sean múltiplos de 4 o 5.\n",
    "\n",
    "numbers = [1, 2, 3, 4, 5, 6, 7, 8, 9, 10]\n",
    "for i in numbers:\n",
    "    if i%4==0 or i%5==0: print(i)"
   ]
  },
  {
   "cell_type": "code",
   "execution_count": 61,
   "metadata": {},
   "outputs": [],
   "source": [
    "#14. Dado un diccionario de frutas y sus precios, utiliza un bucle while para calcular el precio total de todas las frutas.\n",
    "\n",
    "fruits = {\"manzana\": 1.5, \"naranja\": 2.0, \"platano\": 3.0, \"kiwi\": 2.5}\n"
   ]
  },
  {
   "cell_type": "code",
   "execution_count": 65,
   "metadata": {},
   "outputs": [
    {
     "name": "stdout",
     "output_type": "stream",
     "text": [
      "['Julia', 'Maria', 'Juan', 'Pedro', 'Ana']\n"
     ]
    }
   ],
   "source": [
    "#15. Dada una lista de nombres, utiliza un bucle for para imprimir los nombres en orden inverso.\n",
    "\n",
    "names = [\"Ana\", \"Pedro\", \"Juan\", \"Maria\", \"Julia\"]\n",
    "names.reverse()\n",
    "print(names)"
   ]
  },
  {
   "cell_type": "code",
   "execution_count": 2,
   "metadata": {},
   "outputs": [],
   "source": [
    "#16. Dada una lista de números, utiliza un bucle while para calcular la media de los números pares.\n",
    "\n",
    "numbers = [1, 2, 3, 4, 5, 6, 7, 8, 9, 10]\n"
   ]
  },
  {
   "cell_type": "code",
   "execution_count": 70,
   "metadata": {},
   "outputs": [
    {
     "name": "stdout",
     "output_type": "stream",
     "text": [
      "1 10\n"
     ]
    }
   ],
   "source": [
    "#17. Dada una lista de números, utiliza un bucle for para imprimir el número más pequeño y el número más grande.\n",
    "\n",
    "numbers = [5, 2, 7, 1, 8, 4, 10, 3]\n",
    "min=numbers[0]\n",
    "max=numbers[0]\n",
    "for i in numbers:\n",
    "    if i<min: min=i\n",
    "    if i>max:max=i\n",
    "print(min, max)"
   ]
  },
  {
   "cell_type": "code",
   "execution_count": 1,
   "metadata": {},
   "outputs": [
    {
     "name": "stdout",
     "output_type": "stream",
     "text": [
      "Ana\n",
      "Pedro\n",
      "Juan\n"
     ]
    }
   ],
   "source": [
    "#18. Dada una lista de nombres, utiliza un bucle while para imprimir los nombres en mayúsculas hasta que se encuentre un nombre que comience con \"M\".\n",
    "\n",
    "names = [\"Ana\", \"Pedro\", \"Juan\", \"Maria\", \"Julia\"]\n",
    "i=0\n",
    "while names[i][0]!=\"M\":\n",
    "     print(names[i])  \n",
    "     i+=1"
   ]
  },
  {
   "cell_type": "code",
   "execution_count": 3,
   "metadata": {},
   "outputs": [
    {
     "name": "stdout",
     "output_type": "stream",
     "text": [
      "platano\n",
      "kiwi\n"
     ]
    }
   ],
   "source": [
    "#19. Dado un diccionario de frutas y sus precios, utiliza un bucle for para imprimir solo las frutas que tengan un precio mayor a 2.0.\n",
    "\n",
    "fruits = {\"manzana\": 1.5, \"naranja\": 2.0, \"platano\": 3.0, \"kiwi\": 2.5}\n",
    "for clave, valor in fruits.items():\n",
    "    if valor>2: print(clave)"
   ]
  },
  {
   "cell_type": "code",
   "execution_count": 6,
   "metadata": {},
   "outputs": [
    {
     "name": "stdout",
     "output_type": "stream",
     "text": [
      "1\n",
      "3\n",
      "5\n",
      "7\n",
      "9\n"
     ]
    }
   ],
   "source": [
    "#20. Dada una lista de números, utiliza un bucle while para imprimir solo los números impares \n",
    "# y detener el bucle si se encuentra un número mayor a 10.\n",
    "\n",
    "numbers = [1, 2, 3, 4, 5, 6, 7, 8, 9, 11, 12]\n",
    "i=0\n",
    "while numbers[i]<10:\n",
    "    if numbers[i]%2!=0: print(numbers[i])\n",
    "    i+=1"
   ]
  },
  {
   "cell_type": "code",
   "execution_count": null,
   "metadata": {},
   "outputs": [],
   "source": [
    "#21. Dada una lista de tuplas, donde cada tupla representa la información de un estudiante\n",
    "#(nombre, edad, promedio), \n",
    "#crear un diccionario que agrupe a los estudiantes por rango de edades \n",
    "#(0-20, 21-40, 41-60, más de 60) \n",
    "#y calcule el promedio de sus promedios.\n",
    "\n",
    "students = [(\"Ana\", 18, 8.5), (\"Pedro\", 25, 7.8), (\"Juan\", 37, 9.2), (\"Maria\", 58, 6.5), (\"Julia\", 70, 8.9), (\"Luis\", 20, 9.0)]\n",
    "\n",
    "age_ranges = {\"0-20\": [], \"21-40\": [], \"41-60\": [], \"más de 60\": []}\n",
    "\n",
    "for i in students:\n",
    "    if i[1]<20:\n",
    "     #añadir a age_ranges \"0-20\"\n",
    "    elif i[1]<40:\n",
    "        #añadir a age_ranges \"21-40\"\n",
    "    elif i[1]>60:\n",
    "        #añadir a age_ranges \"41-60\"\n",
    "    else\n",
    "        #añadir a age_ranges \"más de 60\"\n",
    "\n",
    "\n"
   ]
  }
 ],
 "metadata": {
  "kernelspec": {
   "display_name": "ramp_up_py395",
   "language": "python",
   "name": "python3"
  },
  "language_info": {
   "codemirror_mode": {
    "name": "ipython",
    "version": 3
   },
   "file_extension": ".py",
   "mimetype": "text/x-python",
   "name": "python",
   "nbconvert_exporter": "python",
   "pygments_lexer": "ipython3",
   "version": "3.10.4"
  },
  "orig_nbformat": 4
 },
 "nbformat": 4,
 "nbformat_minor": 2
}
