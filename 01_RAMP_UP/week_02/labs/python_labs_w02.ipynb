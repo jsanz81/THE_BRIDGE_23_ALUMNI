{
 "cells": [
  {
   "cell_type": "code",
   "execution_count": null,
   "metadata": {},
   "outputs": [],
   "source": [
    "# Ejercicios para repasar list, dict, tuple, for, while, if\n",
    "1. Dada una lista de números, utiliza un bucle for para imprimir solo los números pares.\n",
    "\n",
    "numbers = [1, 2, 3, 4, 5, 6, 7, 8, 9, 10]\n",
    "\n",
    "2. Dada una lista de números, utiliza un bucle while para imprimir solo los números impares.\n",
    "\n",
    "numbers = [1, 2, 3, 4, 5, 6, 7, 8, 9, 10]\n",
    "\n",
    "\n",
    "3. Dado un diccionario de frutas y sus precios, utiliza un bucle for para imprimir solo las frutas con precios mayores a 2.\n",
    "\n",
    "\n",
    "4. Dada una lista de nombres, utiliza un bucle while para imprimir el primer nombre que comience con \"J\".\n",
    "\n",
    "names = [\"Ana\", \"Pedro\", \"Juan\", \"Maria\", \"Julia\"]\n",
    "\n",
    "5. Dada una lista de números, utiliza un bucle for para calcular la suma de los números impares.\n",
    "\n",
    "numbers = [1, 2, 3, 4, 5, 6, 7, 8, 9, 10]\n",
    "\n",
    "6. Dado un diccionario de frutas y sus precios, utiliza un bucle while para calcular el precio total de todas las frutas con precios menores a 2.\n",
    "\n",
    "fruits = {\"manzana\": 1.5, \"naranja\": 2.0, \"platano\": 1.0, \"kiwi\": 0.5}\n",
    "\n",
    "7. Dada una lista de nombres, utiliza un bucle for para imprimir solo los nombres que tengan más de 4 letras.\n",
    "\n",
    "names = [\"Ana\", \"Pedro\", \"Juan\", \"Maria\", \"Julia\"]\n",
    "\n",
    "8. Dada una lista de números, utiliza un bucle while para imprimir el primer número que sea mayor a 5.\n",
    "\n",
    "numbers = [1, 2, 3, 4, 5, 6, 7, 8, 9, 10]\n",
    "\n",
    "9. Dado un diccionario de frutas y sus precios, utiliza un bucle for para imprimir la fruta más cara.\n",
    "\n",
    "fruits = {\"manzana\": 1.5, \"naranja\": 2.0, \"platano\": 3.0, \"kiwi\": 2.5}\n",
    "\n",
    "\n",
    "10. Dada una lista de números, utiliza un bucle while para imprimir solo los números que sean divisibles por 3.\n",
    "\n",
    "numbers = [1, 2, 3, 4, 5, 6, 7, 8, 9, 10]\n",
    "\n",
    "11. Dado un diccionario de frutas y sus precios, utiliza un bucle for para imprimir solo las frutas que tengan una longitud de nombre mayor a 5.\n",
    "\n",
    "fruits = {\"manzana\": 1.5, \"naranja\": 2.0, \"platano\": 3.0, \"kiwi\": 2.5}\n",
    "\n",
    "\n",
    "12. Dada una lista de números, utiliza un bucle for para imprimir solo los números que sean múltiplos de 4 o 5.\n",
    "\n",
    "numbers = [1, 2, 3, 4, 5, 6, 7, 8, 9, 10]\n",
    "\n",
    "\n",
    "13. Dado un diccionario de frutas y sus precios, utiliza un bucle while para calcular el precio total de todas las frutas.\n",
    "\n",
    "fruits = {\"manzana\": 1.5, \"naranja\": 2.0, \"platano\": 3.0, \"kiwi\": 2.5}\n",
    "\n",
    "\n",
    "14. Dada una lista de nombres, utiliza un bucle for para imprimir los nombres en orden inverso.\n",
    "\n",
    "names = [\"Ana\", \"Pedro\", \"Juan\", \"Maria\", \"Julia\"]\n",
    "\n",
    "\n",
    "15. Dada una lista de números, utiliza un bucle while para calcular la media de los números pares.\n",
    "\n",
    "numbers = [1, 2, 3, 4, 5, 6, 7, 8, 9, 10]\n",
    "\n",
    "\n",
    "16. Dada una lista de números, utiliza un bucle for para imprimir el número más pequeño y el número más grande.\n",
    "\n",
    "numbers = [5, 2, 7, 1, 8, 4, 10, 3]\n",
    "\n",
    "\n",
    "17. Dada una lista de nombres, utiliza un bucle while para imprimir los nombres en mayúsculas hasta que se encuentre un nombre que comience con \"M\".\n",
    "\n",
    "names = [\"Ana\", \"Pedro\", \"Juan\", \"Maria\", \"Julia\"]\n",
    "\n",
    "\n",
    "18. Dado un diccionario de frutas y sus precios, utiliza un bucle for para imprimir solo las frutas que tengan un precio mayor a 2.0.\n",
    "\n",
    "fruits = {\"manzana\": 1.5, \"naranja\": 2.0, \"platano\": 3.0, \"kiwi\": 2.5}\n",
    "\n",
    "\n",
    "19. Dada una lista de números, utiliza un bucle while para imprimir solo los números impares y detener el bucle si se encuentra un número mayor a 10.\n",
    "\n",
    "numbers = [1, 2, 3, 4, 5, 6, 7, 8, 9, 11, 12]\n",
    "\n",
    "\n",
    "20. Dada una lista de tuplas, donde cada tupla representa la información de un estudiante (nombre, edad, promedio), crear un diccionario que agrupe a los estudiantes por rango de edades (0-20, 21-40, 41-60, más de 60) y calcule el promedio de sus promedios.\n",
    "\n",
    "students = [(\"Ana\", 18, 8.5), (\"Pedro\", 25, 7.8), (\"Juan\", 37, 9.2), (\"Maria\", 58, 6.5), (\"Julia\", 70, 8.9), (\"Luis\", 20, 9.0)]\n",
    "\n",
    "age_ranges = {\"0-20\": [], \"21-40\": [], \"41-60\": [], \"más de 60\": []}\n"
   ]
  },
  {
   "cell_type": "code",
   "execution_count": 3,
   "metadata": {},
   "outputs": [
    {
     "name": "stdout",
     "output_type": "stream",
     "text": [
      "2\n",
      "4\n",
      "6\n",
      "8\n",
      "10\n"
     ]
    }
   ],
   "source": [
    "#1. Dada una lista de números, utiliza un bucle for para imprimir solo los números pares.\n",
    "\n",
    "numbers = [1, 2, 3, 4, 5, 6, 7, 8, 9, 10]\n",
    "\n",
    "for i in numbers[1::2]:\n",
    "    print(i)"
   ]
  },
  {
   "cell_type": "code",
   "execution_count": 4,
   "metadata": {},
   "outputs": [
    {
     "name": "stdout",
     "output_type": "stream",
     "text": [
      "1\n",
      "3\n",
      "5\n",
      "7\n",
      "9\n"
     ]
    }
   ],
   "source": [
    "#2. Dada una lista de números, utiliza un bucle while para imprimir solo los números impares.\n",
    "\n",
    "numbers = [1, 2, 3, 4, 5, 6, 7, 8, 9, 10]\n",
    "for i in numbers[::2]:\n",
    "    print(i)"
   ]
  },
  {
   "cell_type": "code",
   "execution_count": 8,
   "metadata": {},
   "outputs": [
    {
     "name": "stdout",
     "output_type": "stream",
     "text": [
      "platano\n",
      "kiwi\n"
     ]
    }
   ],
   "source": [
    "#3. Dado un diccionario de frutas y sus precios, utiliza un bucle for para imprimir solo las frutas con precios mayores a 2.\n",
    "\n",
    "fruits = {\"manzana\": 1.5, \"naranja\": 2.0, \"platano\": 3.0, \"kiwi\": 2.5}\n",
    "claves=fruits.keys()\n",
    "for i in claves: #for recorre todas las claves\n",
    "    if fruits[i]>2: #si el valor de esa clave es > 2  imprimir clave\n",
    "       print(i)"
   ]
  },
  {
   "cell_type": "code",
   "execution_count": 11,
   "metadata": {},
   "outputs": [
    {
     "name": "stdout",
     "output_type": "stream",
     "text": [
      "Juan\n",
      "Julia\n"
     ]
    }
   ],
   "source": [
    "#4. Dada una lista de nombres, utiliza un bucle while para imprimir el primer nombre que comience con \"J\".\n",
    "\n",
    "names = [\"Ana\", \"Pedro\", \"Juan\", \"Maria\", \"Julia\"]\n",
    "for i in names:\n",
    "        if i[0]==\"J\": print(i)"
   ]
  },
  {
   "cell_type": "code",
   "execution_count": 13,
   "metadata": {},
   "outputs": [
    {
     "name": "stdout",
     "output_type": "stream",
     "text": [
      "25\n"
     ]
    }
   ],
   "source": [
    "#5. Dada una lista de números, utiliza un bucle for para calcular la suma de los números impares.\n",
    "\n",
    "numbers = [1, 2, 3, 4, 5, 6, 7, 8, 9, 10]\n",
    "suma_impar=0\n",
    "for i in numbers:\n",
    "    if i%2!=0: suma_impar+=i\n",
    "print(suma_impar)"
   ]
  }
 ],
 "metadata": {
  "kernelspec": {
   "display_name": "ramp_up_py395",
   "language": "python",
   "name": "python3"
  },
  "language_info": {
   "codemirror_mode": {
    "name": "ipython",
    "version": 3
   },
   "file_extension": ".py",
   "mimetype": "text/x-python",
   "name": "python",
   "nbconvert_exporter": "python",
   "pygments_lexer": "ipython3",
   "version": "3.9.5"
  },
  "orig_nbformat": 4
 },
 "nbformat": 4,
 "nbformat_minor": 2
}
