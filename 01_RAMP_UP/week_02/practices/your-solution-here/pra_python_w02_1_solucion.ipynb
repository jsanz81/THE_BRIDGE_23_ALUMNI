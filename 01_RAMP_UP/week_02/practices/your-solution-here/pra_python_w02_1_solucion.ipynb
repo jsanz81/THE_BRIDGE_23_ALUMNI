{
 "cells": [
  {
   "attachments": {},
   "cell_type": "markdown",
   "metadata": {},
   "source": [
    "Programación para *Data Science*\n",
    "============================\n",
    "\n",
    "Intro101 - 02.1: Conceptos de Python\n",
    "--------------------------------------\n",
    "\n",
    "En este Notebook encontraréis dos conjuntos de ejercicios: un primer conjunto de ejercicios para practicar y que no puntuan, pero que recomendamos intentar resolver y un segundo conjunto que evaluaremos como actividad."
   ]
  },
  {
   "attachments": {},
   "cell_type": "markdown",
   "metadata": {},
   "source": [
    "### Ejercicio 1\n",
    "\n",
    "El siguiente ejercicio consiste en pasar un número en base 16 (hexadecimal, 0-9/A-F) a base 10 (decimal). Para hacerlo, debéis crear una **función** que dado un _string_ que representa un número en hexadecimal, por ejemplo, `AE3F`, devuelva el número \n",
    "natural correspondiente. En este caso, el resultado sería `44607`."
   ]
  },
  {
   "cell_type": "code",
   "execution_count": 19,
   "metadata": {},
   "outputs": [
    {
     "name": "stdout",
     "output_type": "stream",
     "text": [
      "Hexadecimal:\t234\n",
      "Decimal:\t564\n"
     ]
    }
   ],
   "source": [
    "# Respuesta\n",
    "\n",
    "valores_hex = {\n",
    "        \"F\": 15,\n",
    "        \"E\": 14,\n",
    "        \"D\": 13,\n",
    "        \"C\": 12,\n",
    "        \"B\": 11,\n",
    "        \"A\": 10,\n",
    "        \"9\":9,\n",
    "        \"8\":8,\n",
    "        \"7\":7,\n",
    "        \"6\":6,\n",
    "        \"5\":5,\n",
    "        \"4\":4,\n",
    "        \"3\":3,\n",
    "        \"2\":2,\n",
    "        \"1\":1,\n",
    "        \"0\":0,\n",
    "}\n",
    "\n",
    "#leer la cadena\n",
    "#sacamos la longitud\n",
    "#multiplicamos cada caracter por 16**posición en la cadena\n",
    "\n",
    "try:\n",
    "  hex=input(\"introduzca numero hexadecimal\")\n",
    "  hexadecimal_num=hex.upper() #todo a mayúsculas\n",
    "    \n",
    "  contador=len(hexadecimal_num)-1   #longitud de la cadena\n",
    "  decimal_num=0\n",
    "  for i in hexadecimal_num:\n",
    "    decimal_num+=valores_hex[i]*(16**(contador))\n",
    "    contador-=1\n",
    "  print(f\"Hexadecimal:\\t{hexadecimal_num}\")\n",
    "  print(f\"Decimal:\\t{decimal_num}\")\n",
    "except KeyError as error: #captura valor no en diccionario\n",
    " print(f\"No es número hexadecimal\")\n",
    "\n",
    "\n",
    "#  A34FB98 -> 171244440\n",
    "\n",
    "#234\n",
    "#200 + 30 + 4\n",
    "#2*10**2 + 3*10*1 + 4*10**0\n",
    "\n",
    "#A34FB98\n",
    "#A*16**6 + 3*16**5 + 4*16**4 + F*16**3 + B*16**2 + 9*16**1 + 8*16**0"
   ]
  },
  {
   "attachments": {},
   "cell_type": "markdown",
   "metadata": {},
   "source": [
    "### Ejercicio 2\n",
    "\n",
    "Las excepciones son errores detectados en tiempo de ejecución. Pueden y deben ser manejadas por el programador para minimizar el riesgo de que un determinado programa falle de forma no controlada. Escribid, en lenguaje Python, cómo generar y capturar la siguiente excepción: **ZeroDivisionError**."
   ]
  },
  {
   "cell_type": "code",
   "execution_count": 29,
   "metadata": {},
   "outputs": [
    {
     "name": "stdout",
     "output_type": "stream",
     "text": [
      "division by zero\n"
     ]
    }
   ],
   "source": [
    "# Respuesta\n",
    "\n",
    "a=1\n",
    "b=0\n",
    "division=0\n",
    "try:\n",
    "   division=a/b\n",
    "except ZeroDivisionError as error: #captura división entre 0\n",
    "    print(error)\n",
    "else: print(round(division,2))"
   ]
  },
  {
   "attachments": {},
   "cell_type": "markdown",
   "metadata": {},
   "source": [
    "### Ejercicio 3\n",
    "\n",
    "Completad el código necesario para calcular el número de vocales y de consonantes respectivamente de un texto."
   ]
  },
  {
   "cell_type": "code",
   "execution_count": 2,
   "metadata": {},
   "outputs": [
    {
     "name": "stdout",
     "output_type": "stream",
     "text": [
      "Hola a todos!\n"
     ]
    }
   ],
   "source": [
    "texto = \"Hola a todos!\"\n",
    "print(texto)"
   ]
  },
  {
   "cell_type": "code",
   "execution_count": 3,
   "metadata": {},
   "outputs": [
    {
     "name": "stdout",
     "output_type": "stream",
     "text": [
      "Bienvenidos!\n"
     ]
    }
   ],
   "source": [
    "texto_2 = \"Bienvenidos!\"\n",
    "print(texto_2)"
   ]
  },
  {
   "cell_type": "code",
   "execution_count": 4,
   "metadata": {},
   "outputs": [],
   "source": [
    "def imprime(argumento):\n",
    "    nuevo = argumento + texto_2\n",
    "    print(nuevo)"
   ]
  },
  {
   "cell_type": "code",
   "execution_count": 5,
   "metadata": {},
   "outputs": [
    {
     "name": "stdout",
     "output_type": "stream",
     "text": [
      "Hola a todos!Bienvenidos!\n"
     ]
    }
   ],
   "source": [
    "imprime(texto)"
   ]
  },
  {
   "cell_type": "code",
   "execution_count": null,
   "metadata": {},
   "outputs": [],
   "source": []
  },
  {
   "cell_type": "code",
   "execution_count": 6,
   "metadata": {},
   "outputs": [
    {
     "name": "stdout",
     "output_type": "stream",
     "text": [
      "Hola a todos!Bienvenidos!\n"
     ]
    }
   ],
   "source": [
    "imprime(texto)"
   ]
  },
  {
   "cell_type": "code",
   "execution_count": null,
   "metadata": {},
   "outputs": [],
   "source": []
  },
  {
   "attachments": {},
   "cell_type": "markdown",
   "metadata": {},
   "source": [
    "Pseudocódigo\n",
    "\n",
    "Dado un texto con n palabras\n",
    "la operación tiene que contar vocales y consonantes\n",
    "\n",
    "SI en el texto existe una vocal\n",
    "    IF:\n",
    "        num_vocales +1\n",
    "    ELSE desde (A AND la Z) OR (ç AND ñ):\n",
    "        num_consonantes +1"
   ]
  },
  {
   "cell_type": "code",
   "execution_count": null,
   "metadata": {
    "attributes": {
     "classes": [
      "sourceCode"
     ],
     "id": ""
    }
   },
   "outputs": [
    {
     "name": "stdout",
     "output_type": "stream",
     "text": [
      "El número de vocales es 44.\n",
      "El número de consonantes es 62.\n"
     ]
    }
   ],
   "source": [
    "def contar_vocales_y_consonantes(texto):\n",
    "    # Cuenta las vocales contenidas en el string texto y también las consonantes.\n",
    "    num_vocales = 0\n",
    "    num_consonantes = 0\n",
    "\n",
    "    # Código que hay que completar.\n",
    "    pass\n",
    "    return num_vocales, num_consonantes\n",
    "\n",
    "texto = \"Orbiting Earth in the spaceship, I saw how beautiful our planet is. \\\n",
    "            People, let us preserve and increase this beauty, not destroy it!\"\n",
    "\n",
    "num_vocales, num_consonantes = contar_vocales_y_consonantes(texto)\n",
    "print (\"El número de vocales es %d.\" % num_vocales)\n",
    "print (\"El número de consonantes es %d.\" % num_consonantes)"
   ]
  },
  {
   "attachments": {},
   "cell_type": "markdown",
   "metadata": {},
   "source": [
    "---\n",
    "\n",
    "## Ejercicios y preguntas teóricas\n",
    "\n",
    "A continuación encontraréis los **ejercicios y preguntas teóricas que debéis completar en este módulo intro-101** y que forman parte de la evaluación de esta unidad."
   ]
  },
  {
   "attachments": {},
   "cell_type": "markdown",
   "metadata": {},
   "source": [
    "### Pregunta 1\n",
    "\n",
    "Las funciones _range_ y _xrange_ pueden utilizarse con la misma finalidad, pero su funcionamiento es diferente. Poned un ejemplo donde sería recomendable intercambiar la función _range_ por la función _xrange_.\n",
    "\n",
    "**Respuesta:**"
   ]
  },
  {
   "attachments": {},
   "cell_type": "markdown",
   "metadata": {},
   "source": [
    ">xrange es un generador y puede valer para rangos muy grandes, que ocupen mucho en memoria si se usara range"
   ]
  },
  {
   "attachments": {},
   "cell_type": "markdown",
   "metadata": {},
   "source": [
    "Escribid vuestra respuesta aquí"
   ]
  },
  {
   "attachments": {},
   "cell_type": "markdown",
   "metadata": {},
   "source": [
    "### Pregunta 2\n",
    "\n",
    "a) Explicad brevemente cada línea de código del siguiente bloque (añadid comentarios en el mismo bloque de código):"
   ]
  },
  {
   "cell_type": "code",
   "execution_count": 8,
   "metadata": {
    "tags": []
   },
   "outputs": [
    {
     "name": "stdout",
     "output_type": "stream",
     "text": [
      "Primera iteración: número generado = 0\n",
      "Primera iteración: número generado = 1\n",
      "Primera iteración: número generado = 2\n",
      "Primera iteración: número generado = 3\n",
      "Primera iteración: número generado = 4\n",
      "Primera iteración: número generado = 5\n",
      "Primera iteración: número generado = 6\n",
      "Primera iteración: número generado = 7\n",
      "Primera iteración: número generado = 8\n",
      "Primera iteración: número generado = 9\n"
     ]
    }
   ],
   "source": [
    "# Añadid vuestros comentarios de código en este mismo bloque\n",
    "\n",
    "# esta función define la misma acción que xrange(10)\n",
    "def create_generator():\n",
    "    for i in range(10):\n",
    "        yield i \n",
    "        #devuelve los valores del for de uno en uno y para la ejecución hasta que se le llama otra vez\n",
    "        \n",
    "num_generator = create_generator()\n",
    "for i in num_generator:\n",
    "    print(\"Primera iteración: número generado =\", i)\n",
    "    \n",
    "for j in num_generator:\n",
    "    print(\"Segunda iteración: número generado =\", j) \n",
    "    #no llega a entrar en el segundo for, un generador se termina cunao llega al final"
   ]
  },
  {
   "attachments": {},
   "cell_type": "markdown",
   "metadata": {},
   "source": [
    "b) Explicad brevemente la salida por pantalla que observamos al ejecutar el código anterior.\n",
    "\n",
    "\n",
    "**Respuesta**"
   ]
  },
  {
   "attachments": {},
   "cell_type": "markdown",
   "metadata": {},
   "source": [
    ">El generador devuelve un rango de 0 a 9  y cuando acaba se para y no se puede reactivar a no ser que llames otra vez a la función\n",
    "        >No entra en el segundo for"
   ]
  },
  {
   "attachments": {},
   "cell_type": "markdown",
   "metadata": {},
   "source": [
    "### Ejercicio 1\n",
    "\n",
    "Escribid una función que dada una lista de planetas del sistema solar, pregunte al usuario que introduzca una posición y muestre el plante correspondiente a dicha posición. Por ejemplo, si tenemos la siguiente lista: `['Mercurio', 'Venus', 'Tierra', 'Marte']` y el usuario nos ha introducido la posición `3`, hemos de mostrar como resultado por pantalla: `Tierra`.\n",
    "\n",
    "Consideraciones:\n",
    "\n",
    "- La posición que introduzca el usuario tiene que ser un número entero estrictamente positivo.\n",
    "- La función debe controlar el acceso a una posición fuera de la lista mediante una **excepción**. Por ejemplo, en el caso anterior debemos mostrar una mensaje de error si el usuario pide acceder a la posición 10."
   ]
  },
  {
   "cell_type": "code",
   "execution_count": 21,
   "metadata": {},
   "outputs": [
    {
     "name": "stdout",
     "output_type": "stream",
     "text": [
      "****************************************\n",
      "Mercurio\n",
      "Venus\n",
      "Tierra\n",
      "Marte\n",
      "Júpiter\n",
      "Saturno\n",
      "Urano\n",
      "Neptuno\n",
      "Plutón\n",
      "****************************************\n",
      "Valor fuera de rango: 20\n",
      " Elegir número del 1 al 9\n",
      "Posición 8, planeta: Neptuno\n"
     ]
    }
   ],
   "source": [
    "# Respuesta\n",
    "\n",
    "planetas = ['Mercurio', 'Venus', 'Tierra', 'Marte', 'Júpiter', 'Saturno', 'Urano', 'Neptuno', 'Plutón']\n",
    "\n",
    "print(\"****************************************\")\n",
    "for planeta in planetas:\n",
    "      print(planeta)\n",
    "print(\"****************************************\")\n",
    "\n",
    "rango_ok=False\n",
    "\n",
    "while rango_ok==False:\n",
    "  try:\n",
    "   p=int(input(\"¿Posición?\"))\n",
    "   if p<0: print(f\"Valor fuera de rango: {p}\\n Elegir número del 1 al {len(planetas)}\")\n",
    "   else:\n",
    "     a=planetas[p-1]\n",
    "     print(f\"Posición {p}, planeta: {a}\")\n",
    "     rango_ok=True\n",
    "  except ValueError as e:\n",
    "    print(f\"Valor no numérico. Introduzca número entero positivo del 1 al {len(planetas)}\")\n",
    "  except IndexError as e:\n",
    "   print(f\"Valor fuera de rango: {p}\\n Elegir número del 1 al {len(planetas)}\")\n",
    "   \n",
    "\n"
   ]
  },
  {
   "attachments": {},
   "cell_type": "markdown",
   "metadata": {},
   "source": [
    "### Ejercicio 2\n",
    "\n",
    "Dada una lista de planetas del sistema solar, determinad cuales de estos planetas tienen una masa superior a la de la Tierra. Por ejemplo, si la lista inicial es `['Venus', 'Marte', 'Saturno']`, el resultado que mostraríamos por pantalla sería `['Saturno']` ya que el planeta Saturno tiene una masa `95.2` veces superior a la Tierra.\n",
    "\n",
    "Consideraciones:\n",
    "\n",
    "- Debéis tener en cuenta que el nombre de los planetas que nos pasan por parámetro puede estar en minúsculas, mayúsculas o una combinación de ambas.\n",
    "- Podéis asumir que no habrá acentos en el nombre de los planetas.\n",
    "- Debéis determinar aquellos planetas que tiene una massa estrictamente superior a la de la Tierra.\n",
    "- No habrá planetas repetidos en la lista que nos pasan por parámetro.\n"
   ]
  },
  {
   "cell_type": "code",
   "execution_count": 22,
   "metadata": {},
   "outputs": [
    {
     "data": {
      "text/plain": [
       "17.2"
      ]
     },
     "execution_count": 22,
     "metadata": {},
     "output_type": "execute_result"
    }
   ],
   "source": [
    "masas = {'Mercurio': 0.06, 'Venus': 0.82, 'Tierra': 1, 'Marte': 0.11, 'Jupiter': 317.8, \n",
    "          'Saturno': 95.2, 'Urano': 14.6, 'Neptuno': 17.2, 'Pluton': 0.0022}\n",
    "type(masas)\n",
    "len(masas)\n",
    "# Llamar el primer elemento del diccionario\n",
    "masas['Mercurio']\n",
    "masas.keys()\n",
    "masas.values()\n",
    "masas['Neptuno']\n"
   ]
  },
  {
   "cell_type": "code",
   "execution_count": 35,
   "metadata": {
    "attributes": {
     "classes": [
      "sourceCode"
     ],
     "id": ""
    }
   },
   "outputs": [
    {
     "name": "stdout",
     "output_type": "stream",
     "text": [
      "[]\n",
      "['Jupiter', 'Saturno']\n",
      "['Urano', 'Neptuno']\n",
      "['Saturno']\n"
     ]
    }
   ],
   "source": [
    "# Masas medidas con respecto a la Tierra\n",
    "# Es decir, un valor de 14.6 representaria una masa 14.6 veces superior a la de la Tierra\n",
    "masas = {'Mercurio': 0.06, 'Venus': 0.82, 'Tierra': 1, 'Marte': 0.11, 'Jupiter': 317.8, \n",
    "          'Saturno': 95.2, 'Urano': 14.6, 'Neptuno': 17.2, 'Pluto': 0.0022}\n",
    "\n",
    "def planetas_mas_grandes_que_Tierra(planetas):\n",
    "    \"\"\"\n",
    "    Planetas con una masa superior a la de la Tierra\n",
    "    \"\"\"\n",
    "    planetas_masa_superior = []\n",
    "\n",
    "    # Código a completar\n",
    "    planetas_masa_superior = [planeta.capitalize() for planeta in planetas if masas[planeta.capitalize()]>1]\n",
    "\n",
    "    return planetas_masa_superior\n",
    "\n",
    "# Ejemplos de uso de la función anterior\n",
    "print(planetas_mas_grandes_que_Tierra(['Venus', 'Mercurio', 'Marte']))\n",
    "print(planetas_mas_grandes_que_Tierra(['Jupiter', 'Saturno', 'Pluto']))\n",
    "print(planetas_mas_grandes_que_Tierra(['urano', 'tierra', 'neptuno', 'marte', 'Venus']))\n",
    "print(planetas_mas_grandes_que_Tierra(['Tierra', 'MeRcUrIo', 'PLUTO', 'SATURNO']))\n",
    "\n",
    "# Podéis añadir más ejemplos si lo consideráis oportuno"
   ]
  },
  {
   "attachments": {},
   "cell_type": "markdown",
   "metadata": {},
   "source": [
    "### Ejercicio 3\n",
    "\n",
    "Completad las siguientes funciones y documentad el código si lo consideráis oportuno. Finalmente, escribid al menos un ejemplo de uso para cada función.\n"
   ]
  },
  {
   "cell_type": "code",
   "execution_count": 80,
   "metadata": {},
   "outputs": [
    {
     "name": "stdout",
     "output_type": "stream",
     "text": [
      "El objeto se ha dejado caer des de una altura de 11.025000 metros\n",
      "El objeto se ha dejado caer des de una altura de 490.000000 metros\n"
     ]
    }
   ],
   "source": [
    "# Completad las funciones matemáticas siguientes\n",
    "\n",
    "import math\n",
    "\n",
    "\"\"\"\n",
    "Función que calcula la altura en un movimiento de caída libre\n",
    "\n",
    "Suponemos que dejamos caer un objeto desde un edificio de altura desconocida.\n",
    "El parámetro duracion_caida nos indica el tiempo (en segundos) que tarda el objeto en llegar a \n",
    "la tierra. \n",
    "La función debería calcular la altura del edificio desde el cual se ha \n",
    "lanzado el objeto.\n",
    "\n",
    "Podéis encontrar más información sobre el movimiento de caída libre en el siguiente \n",
    "enlace: https://www.fisicalab.com/apartado/caida-libre#contenidos.\n",
    "\"\"\"\n",
    "\n",
    "def calcular_altura_caida_libre(duracion_caida):\n",
    "    # Definimos las variables que intervendran en la equación\n",
    "    \n",
    "    altura=0\n",
    "    pos_final=0\n",
    "    gravedad=9.8\n",
    "    tiempo=duracion_caida\n",
    "    \n",
    "    #Ecuación de caida libre\n",
    "    #y=H-(1/2(g*t**2)\n",
    "    # y = altura final (en este caso 0, el suelo)\n",
    "    # H = altura inicial\n",
    "    # g= aceleración de la gravedad (9,8m/s2)\n",
    "    # tiempo de caida\n",
    "\n",
    "    #pos_final = altura-(1/2(gravedad*tiempo**2)\n",
    "    \n",
    "    altura=pos_final+(1/2*(gravedad*math.pow(tiempo,2)))\n",
    "    return altura\n",
    "\n",
    "print(\"El objeto se ha dejado caer des de una altura de %f metros\" % calcular_altura_caida_libre(1.5))\n",
    "print(\"El objeto se ha dejado caer des de una altura de %f metros\" % calcular_altura_caida_libre(10))\n"
   ]
  },
  {
   "cell_type": "code",
   "execution_count": 89,
   "metadata": {},
   "outputs": [
    {
     "name": "stdout",
     "output_type": "stream",
     "text": [
      "Las coordenadas en el sistema cartesiano del punto (13, 10) son (-10.907930, -7.072274).\n",
      "Las coordenadas en el sistema cartesiano del punto (5, 90) son (-2.240368, 4.469983).\n"
     ]
    }
   ],
   "source": [
    "\"\"\"\n",
    "Función que calcula las coordenadas cartesianas de un punto representado en coordenadas polares\n",
    "\n",
    "Dado un punto representado por sus coordenadas polares (radio y angulo), la función debería calcular \n",
    "las correspondientes coordenadas cartesianas y devolver una tupla con su valor.\n",
    "\n",
    "Podéis encontrar más información sobre el sistema de coordenadas polares y su conversión al sistema \n",
    "cartesiano en el siguiente enlace: https://es.wikipedia.org/wiki/Coordenadas_polares.\n",
    "\"\"\"\n",
    "\n",
    "def calcular_coordenadas_cartesianas(radio, angulo_en_grados):\n",
    "    # Convertimos el ángulo a radianes\n",
    "    angulo_radianes = math.radians(angulo_en_grados)\n",
    "    x=radio*math.cos(angulo_en_grados)\n",
    "    y=radio*math.sin(angulo_en_grados)\n",
    "    return x,y\n",
    "\n",
    "\n",
    "print(\"Las coordenadas en el sistema cartesiano del punto (13, 10) son (%f, %f).\" % calcular_coordenadas_cartesianas(13, 10))\n",
    "print(\"Las coordenadas en el sistema cartesiano del punto (5, 90) son (%f, %f).\" % calcular_coordenadas_cartesianas(5, 90))"
   ]
  },
  {
   "attachments": {},
   "cell_type": "markdown",
   "metadata": {},
   "source": [
    "### Ejercicio 4\n",
    "\n",
    "Escribid una función que dado un número entero positivo, `N`, genere un fichero con el nombre `output.txt` que contendrá `N` líneas, donde cada línea deberá mostrar una número consecutivo de letras `A`.\n",
    "\n",
    "Por ejemplo, si `N = 4`, el fichero generado deberá contener el siguiente contenido:\n",
    "\n",
    "```\n",
    "A\n",
    "AA\n",
    "AAA\n",
    "AAAA\n",
    "```\n"
   ]
  },
  {
   "cell_type": "code",
   "execution_count": 32,
   "metadata": {
    "attributes": {
     "classes": [
      "sourceCode"
     ],
     "id": ""
    }
   },
   "outputs": [
    {
     "name": "stdout",
     "output_type": "stream",
     "text": [
      "\n",
      "A\n",
      "AA\n",
      "AAA\n",
      "AAAA\n"
     ]
    }
   ],
   "source": [
    "# Respuesta\n",
    "import os\n",
    "import sys\n",
    "\n",
    "# Definimos una función que recibirá un número entero por parámetro\n",
    "def generar_fichero():\n",
    "    #abrir/crear fichero\n",
    "\n",
    "    nombre=\"output.txt\"\n",
    "    file = open(nombre, 'w', encoding='utf-8') #abrir o crear archivo\n",
    "\n",
    "    num=input(\"Introduzca número\")\n",
    "    try:\n",
    "        for i in range(int(num)+1):\n",
    "                file.write(\"A\"*i) #escribir tantas A como el contador\n",
    "                #file.write(\" \"*(int(num)-i)*2)\n",
    "                #file.write(\"A\"*i)\n",
    "                file.write(\"\\n\") #escribir salto de linea\n",
    "        file = open(nombre, 'r') #abrir para lectura\n",
    "        for line in file:\n",
    "             print(line, end=\"\")\n",
    "    except ValueError as e:\n",
    "        print(\"Valor no válido\")\n",
    "\n",
    "generar_fichero()\n",
    "    "
   ]
  },
  {
   "attachments": {},
   "cell_type": "markdown",
   "metadata": {},
   "source": [
    "### Ejercicio 5 \n",
    "\n",
    "Dada una cadena de caracteres, `s`, de longitud `n` y un número entero positivo `k`, siendo `k` un divisor de `n`, podemos dividir la cadena `s` en `n / k` sub-cadenas de la misma longitud.\n",
    "\n",
    "Escribid una función que, dada una cadena `s` y un número entero `k`, devuelva las `n/k` sub-cadenas teniendo en cuenta las siguientes consideraciones:\n",
    "\n",
    "- El orden de los caracteres en las sub-cadenas debe ser el mismo que en la cadena original.\n",
    "- Todos los caracteres de las sub-cadenas deben aparecer una única vez. Es decir, si un caracter se repite dentro de una sub-cadena, sólo hemos de mostrar la primera ocurrencia.\n",
    "\n",
    "Por ejemplo, si tenemos\n",
    "<code>\n",
    "s = AABCCAADA\n",
    "k = 3\n",
    "</code>\n",
    "\n",
    "el resultado a mostrar por pantalla sería:\n",
    "<code>\n",
    "AB\n",
    "CA\n",
    "AD\n",
    "</code>\n",
    "\n",
    "Tenemos que la longitud de la cadena es 9 y por lo tanto, podemos formar 3 sub-cadenas:\n",
    "\n",
    "`AAB -> AB` (el caracter A se repite dos veces)\n",
    "\n",
    "`CCA -> CA` (el caracter C se repite dos veces)\n",
    "\n",
    "`ADA -> AD` (el caracter A se repite dos veces)\n"
   ]
  },
  {
   "cell_type": "code",
   "execution_count": 18,
   "metadata": {},
   "outputs": [
    {
     "name": "stdout",
     "output_type": "stream",
     "text": [
      "AAB CCA ADA "
     ]
    }
   ],
   "source": [
    "# Respuesta\n",
    "\n",
    "s=\"AABCCAADA\" #respuesta AB CA AD\n",
    "#s=\"NUEVOTEXTO23\"\n",
    "lon=len(s)\n",
    "k=3\n",
    "subs=\"\"\n",
    "j=0\n",
    "for i in s:\n",
    "   if j<k:\n",
    "      subs+=i #añadir k elementos a subcadena\n",
    "      if j==k-1:\n",
    "         s=set(subs) #convierte cadena en set para quitar duplicados ======> (no los quita)\n",
    "         #print(s)\n",
    "         s=\"\".join(subs) #convierte cada valor del set en cadena unido por ningun espacio\n",
    "         print(s, end=\"\")\n",
    "         print(\" \", end=\"\")\n",
    "         subs=\"\" #reinicializar cadena\n",
    "         j=0 #reinicializar contador de tamaño de subcadenas\n",
    "      else: j+=1"
   ]
  },
  {
   "attachments": {},
   "cell_type": "markdown",
   "metadata": {},
   "source": [
    "### Ejercicio 6 (Opcional)\n",
    "\n",
    "Al final de la Edad Media, en Francia, el diplomático francés Blaise de Vigenère desarrollo un algoritmo para cifrar mensajes que nadie fue capaz de romper durante aproximadamente 250 años. El algoritmo se conoce con el nombre de [cifrado de Vigenère](https://es.wikipedia.org/wiki/Cifrado_de_Vigen%C3%A8re).\n",
    "\n",
    "El cifrado de Vigenère consiste en añadir a cada una de las letras de un texto un desplazamiento a partir de una clave secreta para conseguir una nueva letra diferente de la original. Veamos un ejemplo:\n",
    "\n",
    "Si asignamos el número 1 a la primera letra del abecedario, A, 2 a la siguiente, B, etc., imaginad que tenemos el siguiente mensaje:\n",
    "<code>\n",
    "ABC\n",
    "123\n",
    "</code>\n",
    "\n",
    "y la siguiente clave secreta:\n",
    "<code>\n",
    "DEF\n",
    "456\n",
    "</code>\n",
    "\n",
    "A cada letra del mensaje original aplicamos un desplazamiento en función de la misma posición dentro de la clave secreta. Por lo tanto, el mensaje cifrado quedaría de la siguiente forma:\n",
    "<code>\n",
    "   E       G       I\n",
    "(1 + 4) (2 + 5) (3 + 6)\n",
    "</code>\n",
    "\n",
    "Escribid una función que, dado un mensaje y una clave secreta, calcule y devuelva el mensaje cifrado.\n",
    "\n",
    "*Consideraciones.*\n",
    "\n",
    "- Utilizad como alfabeto de entrada **el alfabeto inglés en mayúsculas**.\n",
    "- El valor por defecto de la clave secreta será **DATASCI**."
   ]
  },
  {
   "cell_type": "code",
   "execution_count": 1,
   "metadata": {
    "attributes": {
     "classes": [
      "sourceCode"
     ],
     "id": ""
    }
   },
   "outputs": [],
   "source": [
    "import string\n",
    "import numpy as np\n",
    "from collections import deque\n",
    "\n",
    "#dic={i:ord(i)-64 for i in string.ascii_uppercase} #crea diccionario con indice letras de \"A\" a \"Z\" y claves 1 a 26\n",
    "\n",
    "abc=string.ascii_uppercase #string.ascii_uppercase  -> letras de \"A\" a \"Z\"\n",
    "\n",
    "#CREAR TABLA 26x26 CON LOS ALFABETOS\n",
    "\n",
    "#de la fla 1 a la 26, shift i caracteres a la izquierda para completar la tabla de Vigenere\n",
    "\n",
    "# ABCDEFGHIJKLMNOPRRSTUVWXYZ\n",
    "# BCDEFGHIJKLMNOPRRSTUVWXYZA\n",
    "# CDEFGHIJKLMNOPRRSTUVWXYZAB\n",
    "# ...\n",
    "# XYZABCDEFGHIJKLMNOPRRSTUVW\n",
    "# YZABCDEFGHIJKLMNOPRRSTUVWX\n",
    "# ZABCDEFGHIJKLMNOPRRSTUVWXY\n",
    "\n",
    "T=np.empty((26,26), str)\n",
    "#array vacio 26x26\n",
    "\n",
    "#rellena cada fila con el alfabeto A a Z\n",
    "for j in range(26):\n",
    " for i in range(26):\n",
    "  T[j][i]=chr(i+65)\n",
    "\n",
    "#np.roll mueve en un array los elementos que se indiquen a izda o derecha (-1, es uno a la izquierda)\n",
    "\n",
    "TablaV=T\n",
    "for i in range(1,26):\n",
    "  TablaV[i]=np.roll(TablaV[i],-1*i) \n",
    "\n",
    "#print(TablaV)\n",
    "#ord(\"A\") -> Ordinal de \"A\" = 65\n",
    "#chr(65) -> A\n",
    "\n",
    "def cifrado_vigenere(mensaje, clave=\"DATASCI\"):\n",
    "  \"\"\"\n",
    "  Cifra el mensaje utilizando el cifrado de Vigenère\n",
    "  1. leer mensaje\n",
    "  2. iterar clave, cuando acabe clave empezar con clave de nuevo hasta que se acabe el mensaje\n",
    "  3. por cada letra del mensaje sumar al valor de ese carácter el valor de la clave correspondiente y mostrar esa letra\n",
    "  \"\"\"\n",
    "  # leer mensaje original en subcadenas de longitud clave\n",
    "  # CADENA1CADENA2CADENA3ETC \n",
    "  # DATASCIDATASCIDATASCIDAT\n",
    "  # cifrar cada caracter del mensaje segun la letra de la clave que le corresponda, leyendo en la tabla\n",
    "  j=-1 #contador longitud clave\n",
    "  mensaje_cifrado=\"\"\n",
    "  \n",
    "  j=-1\n",
    "  for i in range(len(mensaje)):\n",
    "   #print(mensaje[i])\n",
    "    j+=1\n",
    "    #print(mensaje[i],clave[j])\n",
    "    # print(ord(mensaje[i])-65)\n",
    "    # print(ord(clave[j])-65)\n",
    "    #print(TablaV[ord(mensaje[i])-65][ord(clave[j])-65])\n",
    "    if mensaje[i] not in abc: \n",
    "      mensaje_cifrado+=mensaje[i]\n",
    "    else: mensaje_cifrado+=TablaV[ord(mensaje[i])-65][ord(clave[j])-65]\n",
    "    \n",
    "    if j==len(clave)-1: j=-1\n",
    "  return mensaje_cifrado\n"
   ]
  },
  {
   "cell_type": "code",
   "execution_count": 2,
   "metadata": {},
   "outputs": [
    {
     "name": "stdout",
     "output_type": "stream",
     "text": [
      "DTTCSTMPOL SN DMTNWEMU\n",
      "HSME GRHRVIUKW MX ZC FOLTSFW MNCZQ\n"
     ]
    }
   ],
   "source": [
    "# Aquí podéis añadir más ejemplos:\n",
    "print(cifrado_vigenere(\"ATACAREMOS AL AMANECER\"))\n",
    "print(cifrado_vigenere(\"ESTE EJERCICIO ME HA COSTADO MUCHO\"))"
   ]
  }
 ],
 "metadata": {
  "kernelspec": {
   "display_name": "Python 3.9.5 ('the_bridge_22')",
   "language": "python",
   "name": "python3"
  },
  "language_info": {
   "codemirror_mode": {
    "name": "ipython",
    "version": 3
   },
   "file_extension": ".py",
   "mimetype": "text/x-python",
   "name": "python",
   "nbconvert_exporter": "python",
   "pygments_lexer": "ipython3",
   "version": "3.9.5"
  },
  "vscode": {
   "interpreter": {
    "hash": "1c79a6bee0cc3880bade9bffe4f2ea0bcfc562fd81915ef930f986f3657b2ce7"
   }
  }
 },
 "nbformat": 4,
 "nbformat_minor": 4
}
