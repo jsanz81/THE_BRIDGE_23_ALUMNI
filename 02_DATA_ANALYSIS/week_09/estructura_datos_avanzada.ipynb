{
 "cells": [
  {
   "attachments": {},
   "cell_type": "markdown",
   "metadata": {},
   "source": [
    "# Estructura datos avanzada\n",
    "- set"
   ]
  },
  {
   "cell_type": "code",
   "execution_count": 1,
   "metadata": {},
   "outputs": [
    {
     "name": "stdout",
     "output_type": "stream",
     "text": [
      "A list with duplicates:\t\t\t['Anna', 'Helena', 'Marta', 'Pol', 'Anna', 'Teresa', 'Helena']\n"
     ]
    }
   ],
   "source": [
    "# Definimos una lista con elementos duplicados\n",
    "a_list = [\"Anna\", \"Helena\", \"Marta\", \"Pol\", \"Anna\", \"Teresa\", \"Helena\"]\n",
    "print(\"A list with duplicates:\\t\\t\\t{}\".format(a_list))"
   ]
  },
  {
   "cell_type": "code",
   "execution_count": 5,
   "metadata": {},
   "outputs": [
    {
     "data": {
      "text/plain": [
       "['Teresa', 'Pol', 'Anna', 'Marta', 'Helena']"
      ]
     },
     "execution_count": 5,
     "metadata": {},
     "output_type": "execute_result"
    }
   ],
   "source": [
    "list(set(a_list))"
   ]
  },
  {
   "cell_type": "code",
   "execution_count": 6,
   "metadata": {},
   "outputs": [
    {
     "name": "stdout",
     "output_type": "stream",
     "text": [
      "The same list without duplicates:\t['Teresa', 'Pol', 'Anna', 'Marta', 'Helena']\n"
     ]
    }
   ],
   "source": [
    "# Creamos una nueva lista sin duplicados, haciendo un cast de la lista inicial\n",
    "# a conjunto, y convirtiendo el resultado en lista de nuevo\n",
    "a_list_without_duplicates = list(set(a_list))\n",
    "print(\"The same list without duplicates:\\t{}\".format(\n",
    "    a_list_without_duplicates))"
   ]
  },
  {
   "cell_type": "code",
   "execution_count": 9,
   "metadata": {},
   "outputs": [],
   "source": [
    " # Creamos los tres conjuntos\n",
    "students_python = {\"Anna\", \"Helena\", \"Marta\", \"Pol\"}\n",
    "students_java = {\"Anna\", \"Teresa\", \"Helena\"}\n",
    "students_c = {\"Marc\"}"
   ]
  },
  {
   "cell_type": "code",
   "execution_count": 10,
   "metadata": {},
   "outputs": [
    {
     "name": "stdout",
     "output_type": "stream",
     "text": [
      "Python students:\t['Anna', 'Helena', 'Marta', 'Pol', 'Anna', 'Teresa', 'Helena']\n",
      "Anna studies Python?:\tTrue\n",
      "\n",
      "C students:\t\tAnna\n",
      "Anna studies C?:\tFalse\n"
     ]
    }
   ],
   "source": [
    "a_student = \"Anna\"\n",
    "\n",
    "print(\"Python students:\\t{}\".format(a_list))\n",
    "print(\"Anna studies Python?:\\t{}\\n\".format(a_student in a_list))\n",
    "\n",
    "print(\"C students:\\t\\t{}\".format(a_student))\n",
    "print(\"Anna studies C?:\\t{}\".format(a_student in students_c))"
   ]
  },
  {
   "cell_type": "code",
   "execution_count": 11,
   "metadata": {},
   "outputs": [
    {
     "name": "stdout",
     "output_type": "stream",
     "text": [
      "Python and Java:\t\t{'Anna', 'Helena'}\n",
      "Python but not Java:\t\t{'Marta', 'Pol'}\n",
      "Python or Java, but not both:\t{'Teresa', 'Pol', 'Marta'}\n",
      "Any of the languages:\t\t{'Marta', 'Teresa', 'Pol', 'Helena', 'Marc', 'Anna'}\n"
     ]
    }
   ],
   "source": [
    "# Calculamos los alumnos que estudian Python y también Java\n",
    "print(\"Python and Java:\\t\\t{}\".format(\n",
    "    students_python.intersection(students_java)\n",
    "))\n",
    "\n",
    "# Calculamos los alumnos que estudian Python pero no Java\n",
    "print(\"Python but not Java:\\t\\t{}\".format(\n",
    "    students_python.difference(students_java)\n",
    "))\n",
    "\n",
    "# Calculamos los alumnos que estudian Python o Java, pero no\n",
    "# ambos lenguajes\n",
    "print(\"Python or Java, but not both:\\t{}\".format(\n",
    "    students_python.symmetric_difference(students_java)\n",
    "))\n",
    "\n",
    "# Calculamos los estudiantes que tiene la escuela (independientemente\n",
    "# del lenguaje que estudian)\n",
    "print(\"Any of the languages:\\t\\t{}\".format(\n",
    "    students_python.union(students_java).union(students_c)\n",
    "))"
   ]
  },
  {
   "cell_type": "code",
   "execution_count": 12,
   "metadata": {},
   "outputs": [
    {
     "name": "stdout",
     "output_type": "stream",
     "text": [
      "Python and Java:\t\t{'Anna', 'Helena'}\n",
      "Python but not Java:\t\t{'Marta', 'Pol'}\n",
      "Python or Java, but not both:\t{'Teresa', 'Pol', 'Marta'}\n",
      "Any of the languages:\t\t{'Marta', 'Teresa', 'Pol', 'Helena', 'Marc', 'Anna'}\n"
     ]
    }
   ],
   "source": [
    "print(\"Python and Java:\\t\\t{}\".format(\n",
    "    students_python & students_java))\n",
    "print(\"Python but not Java:\\t\\t{}\".format(\n",
    "    students_python - students_java))\n",
    "print(\"Python or Java, but not both:\\t{}\".format(\n",
    "    students_python ^ students_java))\n",
    "print(\"Any of the languages:\\t\\t{}\".format(\n",
    "    students_python | students_java | students_c))"
   ]
  },
  {
   "attachments": {},
   "cell_type": "markdown",
   "metadata": {},
   "source": [
    "## Expresiones regulares\n",
    "\n",
    "- Cuando se trata de buscar elementos alfanuméricos y caracteres especiales, buscando por patrones, necesitamos realizar la extracción de unos elementos n.\n",
    "\n",
    "```\n",
    "==\n",
    "!=\n",
    ">\n",
    "<\n",
    "<=\n",
    "=>\n",
    "```\n",
    "- PEP8\n",
    "- https://peps.python.org/pep-0008/\n",
    "\n",
    "- TEST Pylint // \n",
    "\n",
    "- https://regex101.com/"
   ]
  },
  {
   "cell_type": "code",
   "execution_count": 13,
   "metadata": {},
   "outputs": [],
   "source": [
    " # Creamos 4 cadenas de caracteres\n",
    "str_1 = \"Today is:\"\n",
    "str_2 = \"Friday\"\n",
    "str_3 = \"Coding day\"\n",
    "pep_20 = \"Beautiful is better than ugly.\\nExplicit is better than implicit.\""
   ]
  },
  {
   "cell_type": "code",
   "execution_count": 14,
   "metadata": {},
   "outputs": [
    {
     "name": "stdout",
     "output_type": "stream",
     "text": [
      "Today is: Friday\n",
      "Today is: Coding day\n"
     ]
    }
   ],
   "source": [
    " # Creamos nuevas cadenas concatenando las cadenas anteriores\n",
    "# con espacios que las separan\n",
    "str_4 = str_1 + \" \" + str_2\n",
    "print(str_4)\n",
    "str_5 = str_1 + \" \" + str_3\n",
    "print(str_5)"
   ]
  },
  {
   "cell_type": "code",
   "execution_count": 15,
   "metadata": {},
   "outputs": [
    {
     "name": "stdout",
     "output_type": "stream",
     "text": [
      "Today is: my 6th day of programming\n"
     ]
    }
   ],
   "source": [
    " # Creamos cadenas a partir de valores de variables numéricas\n",
    "str_6 = str_1 + \" my {}th day of programming\".format(6)\n",
    "print(str_6)"
   ]
  },
  {
   "cell_type": "code",
   "execution_count": 16,
   "metadata": {},
   "outputs": [
    {
     "data": {
      "text/plain": [
       "'Today is: my 6th day of programming'"
      ]
     },
     "execution_count": 16,
     "metadata": {},
     "output_type": "execute_result"
    }
   ],
   "source": [
    "days = 6\n",
    "f'{str_1} my {days}th day of programming'"
   ]
  },
  {
   "attachments": {},
   "cell_type": "markdown",
   "metadata": {},
   "source": [
    "## list comprehension\n",
    "```\n",
    "lista_i = list()\n",
    "for i in range(10):\n",
    "    str(i)\n",
    "    lista_i.append(i)\n",
    "```"
   ]
  },
  {
   "cell_type": "code",
   "execution_count": 22,
   "metadata": {},
   "outputs": [
    {
     "data": {
      "text/plain": [
       "'0 1 2 3 4 5 6 7 8 9'"
      ]
     },
     "execution_count": 22,
     "metadata": {},
     "output_type": "execute_result"
    }
   ],
   "source": [
    "# Creamos una cadena de caracteres con los números del 0 al 9\n",
    "# Recursiva con list comprehension\n",
    "\n",
    "\" \".join([str(i) for i in list(range(10))])\n"
   ]
  },
  {
   "cell_type": "code",
   "execution_count": 30,
   "metadata": {},
   "outputs": [
    {
     "data": {
      "text/plain": [
       "'0 1 2 3 4 5 6 7 8 9'"
      ]
     },
     "execution_count": 30,
     "metadata": {},
     "output_type": "execute_result"
    }
   ],
   "source": [
    "\" \".join([str(i) for i in list(range(10))])"
   ]
  },
  {
   "cell_type": "code",
   "execution_count": 45,
   "metadata": {},
   "outputs": [],
   "source": [
    "texto = \"\"\"\n",
    "PassengerId,Survived,Pclass,Name,Sex,Age,SibSp,Parch,Ticket,Fare,Cabin,Embarked\n",
    "1,0,3,\"Braund, Mr. Owen Harris\",male,22,1,0,A/5 21171,7.25,,S\n",
    "2,1,1,\"Cumings, Mrs. John Bradley (Florence Briggs Thayer)\",female,38,1,0,PC 17599,71.2833,C85,C\n",
    "3,1,3,\"Heikkinen, Miss. Laina\",female,26,0,0,STON/O2. 3101282,7.925,,S\n",
    "4,1,1,\"Futrelle, Mrs. Jacques Heath (Lily May Peel)\",female,35,1,0,113803,53.1,C123,S\n",
    "5,0,3,\"Allen, Mr. William Henry\",male,35,0,0,373450,8.05,,S\n",
    "6,0,3,\"Moran, Mr. James\",male,,0,0,330877,8.4583,,Q\n",
    "7,0,1,\"McCarthy, Mr. Timothy J\",male,54,0,0,17463,51.8625,E46,S\n",
    "8,0,3,\"Palsson, Master. Gosta Leonard\",male,2,3,1,349909,21.075,,S\n",
    "9,1,3,\"Johnson, Mrs. Oscar W (Elisabeth Vilhelmina Berg)\",female,27,0,2,347742,11.1333,,S\n",
    "10,1,2,\"Nasser, Mrs. Nicholas (Adele Achem)\",female,14,1,0,237736,30.0708,,C\n",
    "11,1,3,\"Sandstrom, Miss. Marguerite Rut\",female,4,1,1,PP 9549,16.7,G6,S\n",
    "12,1,1,\"Bonnell, Miss. Elizabeth\",female,58,0,0,113783,26.55,C103,S\n",
    "\"\"\""
   ]
  },
  {
   "cell_type": "code",
   "execution_count": 53,
   "metadata": {},
   "outputs": [
    {
     "data": {
      "text/plain": [
       "['\\nPassengerId',\n",
       " 'Survived',\n",
       " 'Pclass',\n",
       " 'Name',\n",
       " 'Sex',\n",
       " 'Age',\n",
       " 'SibSp',\n",
       " 'Parch',\n",
       " 'Ticket']"
      ]
     },
     "execution_count": 53,
     "metadata": {},
     "output_type": "execute_result"
    }
   ],
   "source": [
    "texto.split(\",\")[0:9]"
   ]
  },
  {
   "cell_type": "code",
   "execution_count": 41,
   "metadata": {},
   "outputs": [
    {
     "data": {
      "text/plain": [
       "'Beautiful'"
      ]
     },
     "execution_count": 41,
     "metadata": {},
     "output_type": "execute_result"
    }
   ],
   "source": [
    "# Separamos la cadena pep_20 considerando solo los espacios\n",
    "# como separadores\n",
    "pep_20.split(sep=\" \", maxsplit=1)[-2]"
   ]
  },
  {
   "cell_type": "code",
   "execution_count": 44,
   "metadata": {},
   "outputs": [
    {
     "data": {
      "text/plain": [
       "['Be', 'utiful is better th', 'n ugly.\\nExplicit is better th', 'n implicit.']"
      ]
     },
     "execution_count": 44,
     "metadata": {},
     "output_type": "execute_result"
    }
   ],
   "source": [
    " # Separamos la cadena por las letras \"a\"\n",
    "pep_20.split(\"a\")"
   ]
  },
  {
   "cell_type": "code",
   "execution_count": 33,
   "metadata": {},
   "outputs": [
    {
     "name": "stdout",
     "output_type": "stream",
     "text": [
      "PEP20 string has 3 'a'\n"
     ]
    }
   ],
   "source": [
    " # Contamos cuántas veces aparece la letra \"a\" en la cadena pep_20\n",
    "pep_20_a_num = pep_20.count(\"a\")\n",
    "print(\"PEP20 string has {} 'a'\".format(pep_20_a_num))"
   ]
  },
  {
   "cell_type": "code",
   "execution_count": 54,
   "metadata": {},
   "outputs": [
    {
     "name": "stdout",
     "output_type": "stream",
     "text": [
      "PEP20 string has 2 'better'\n"
     ]
    }
   ],
   "source": [
    "# Contamos cuántas veces aparece la subcadena \"better\" en la cadena pep_20\n",
    "pep_20_bet_num = pep_20.count(\"better\")\n",
    "print(\"PEP20 string has {} 'better'\".format(pep_20_bet_num))"
   ]
  },
  {
   "cell_type": "code",
   "execution_count": 55,
   "metadata": {},
   "outputs": [
    {
     "name": "stdout",
     "output_type": "stream",
     "text": [
      "PEP20 string has 8 whitespaces\n"
     ]
    }
   ],
   "source": [
    "# Contamos cuántos espacios en blanco tiene la cadena pep_20\n",
    "pep_20_ws_num = pep_20.count(\" \")\n",
    "print(\"PEP20 string has {} whitespaces\".format(pep_20_ws_num))"
   ]
  },
  {
   "cell_type": "code",
   "execution_count": 56,
   "metadata": {},
   "outputs": [
    {
     "name": "stdout",
     "output_type": "stream",
     "text": [
      "'beter' starts at position -1\n"
     ]
    }
   ],
   "source": [
    "# Buscamos el índice de la primera aparición de 'beter'\n",
    "str_to_search = \"beter\"\n",
    "ind_better = pep_20.find(str_to_search)\n",
    "print(\"'beter' starts at position {}\".format(ind_better))"
   ]
  },
  {
   "cell_type": "code",
   "execution_count": 57,
   "metadata": {},
   "outputs": [
    {
     "name": "stdout",
     "output_type": "stream",
     "text": [
      "'better' starts at position 13\n"
     ]
    }
   ],
   "source": [
    "# Buscamos el índice de la primera aparición de 'better'\n",
    "str_to_search = \"better\"\n",
    "ind_better = pep_20.find(str_to_search)\n",
    "print(\"'better' starts at position {}\".format(ind_better))"
   ]
  },
  {
   "cell_type": "code",
   "execution_count": 58,
   "metadata": {},
   "outputs": [
    {
     "name": "stdout",
     "output_type": "stream",
     "text": [
      "Beautiful_is_better_than_ugly.\n",
      "Explicit_is_better_than_implicit. \n",
      "\n",
      "Beautiful is worse than ugly.\n",
      "Explicit is worse than implicit. \n",
      "\n",
      "Beautifulisbetterthanugly.\n",
      "Explicitisbetterthanimplicit.\n"
     ]
    }
   ],
   "source": [
    "# Reemplazamos los espacios en blanco por guiones\n",
    "print(pep_20.replace(\" \", \"_\"), \"\\n\")\n",
    "# Reemplazamos 'better' por 'worse'\n",
    "print(pep_20.replace(\"better\", \"worse\"), \"\\n\")\n",
    "# Eliminamos los espacios en blanco reemplazándolos por una cadena vacía\n",
    "print(pep_20.replace(\" \", \"\"))"
   ]
  },
  {
   "cell_type": "code",
   "execution_count": 59,
   "metadata": {},
   "outputs": [
    {
     "name": "stdout",
     "output_type": "stream",
     "text": [
      "String: #   A lot of   spaces #\n",
      "\n",
      "rstrip: #   A lot of   spaces#\n",
      "lstrip: #A lot of   spaces #\n",
      "strip:  #A lot of   spaces#\n"
     ]
    }
   ],
   "source": [
    " # Creamos una cadena con espacios en blanco\n",
    "str_with_spaces = \"   A lot of   spaces \"\n",
    "\n",
    "# Mostramos el resultado de aplicar rstrip, lstrip y strip en la cadena\n",
    "print(\"String: #{}#\\n\".format(str_with_spaces))\n",
    "print(\"rstrip: #{}#\".format(str_with_spaces.rstrip()))\n",
    "print(\"lstrip: #{}#\".format(str_with_spaces.lstrip()))\n",
    "print(\"strip:  #{}#\".format(str_with_spaces.strip()))"
   ]
  },
  {
   "cell_type": "code",
   "execution_count": 61,
   "metadata": {},
   "outputs": [
    {
     "data": {
      "text/plain": [
       "['Be', 'utiful is better th', 'n ugly.\\nExplicit is better th', 'n implicit.']"
      ]
     },
     "execution_count": 61,
     "metadata": {},
     "output_type": "execute_result"
    }
   ],
   "source": [
    "import re\n",
    "\n",
    "pep_20.split('a')"
   ]
  },
  {
   "cell_type": "code",
   "execution_count": 62,
   "metadata": {},
   "outputs": [
    {
     "data": {
      "text/plain": [
       "['Be', 'utiful is better th', 'n ugly.\\nExplicit is better th', 'n implicit.']"
      ]
     },
     "execution_count": 62,
     "metadata": {},
     "output_type": "execute_result"
    }
   ],
   "source": [
    "re.split('a', pep_20)"
   ]
  },
  {
   "cell_type": "code",
   "execution_count": 63,
   "metadata": {},
   "outputs": [
    {
     "name": "stdout",
     "output_type": "stream",
     "text": [
      "The returned object is: <class 're.Match'>\n",
      "that contains: <re.Match object; span=(13, 19), match='better'>\n",
      "Substring starts at 13 and ends at 19\n"
     ]
    }
   ],
   "source": [
    "# Buscamos el índice de la primera aparición de 'better'\n",
    "str_to_search = \"better\"\n",
    "\n",
    "srch_better = re.search(str_to_search, pep_20)\n",
    "\n",
    "print(\"The returned object is: {}\".format(type(srch_better)))\n",
    "print(\"that contains: {}\".format(srch_better))\n",
    "print(\"Substring starts at {} and ends at {}\".format(\n",
    "    srch_better.start(), srch_better.end()))"
   ]
  },
  {
   "attachments": {},
   "cell_type": "markdown",
   "metadata": {},
   "source": [
    "A pesar de que las funciones que hemos visto hasta ahora son muy potentes, se quedan cortas para afrontar muchos de los problemas que encontraremos a la hora de preprocesar datos que contengan cadenas de texto.\n",
    "\n",
    "Por ejemplo, si quisiéramos separar una cadena particionando por cualquier vocal (en vez de solo la letra 'a' como hemos hecho en el ejemplo anterior), ¿cómo lo haríamos? Con lo que hemos visto hasta ahora, deberíamos ir separando vocal a vocal, procesando en cada caso todas las subcadenas ya separadas por las vocales anteriores.\n",
    "\n",
    "Otro ejemplo sería que quisiéramos buscar no solo la palabra 'better' dentro de una cadena, sino cualquier palabra de seis letras, o tal vez buscar palabras que empezaran con 'b' y acabaran con 'tter', con cualquier letra o letras entre la 'b' y 'tter'. ¿Cómo podríamos implementarlo con las funciones que hemos visto hasta ahora? Ciertamente, sería posible, pero el código sería complejo.\n",
    "\n",
    "Para afrontar este tipo de problemas, se suelen utilizar **expresiones regulares** (también conocidas como *regex*, una contracción del término en inglés, *regular expressions*). Una expresión regular es una expresión que utiliza un lenguaje especializado de descripción de cadenas de caracteres. Este lenguaje nos permite expresar con facilidad condiciones que describen cómo debe ser una cadena como las que hemos ejemplificado anteriormente (una cadena que represente cualquier vocal, una cadena de seis letras, una cadena que empiece con 'b' y termine con 'tter', etc.). Estas expresiones se pueden usar, después, para tareas como las que hemos expuesto anteriormente: buscar subcadenas dentro de cadenas, separar cadenas, sustituir subcadenas por otras subcadenas, etc.\n",
    "\n",
    "En este apartado, veremos pues cómo podemos utilizar expresiones regulares para procesar cadenas de caracteres. En primer lugar, veremos las funciones que nos ofrece el módulo [`re`](https://docs.python.org/3.8/library/re.html). En segundo lugar, presentaremos una introducción a la sintaxis de las expresiones regulares.\n",
    "\n",
    "### 3.2.1. Funciones del módulo `re`\n",
    "\n",
    "El módulo [`re`](https://docs.python.org/3.8/library/re.html) es la interfaz del motor de expresiones regulares para Python. Por lo tanto, habrá que importarlo cuando queramos trabajar con *regex*.\n",
    "\n",
    "El módulo tiene funciones equivalentes a las que hemos visto anteriormente, pero que trabajan con expresiones regulares en vez de trabajar con cadenas de caracteres:\n",
    "* [`split`](https://docs.python.org/3.8/library/re.html#re.split): tiene el mismo comportamiento que el método [`split`](https://docs.python.org/3.8/library/stdtypes.html#str.split) de [`str`](https://docs.python.org/3.8/library/stdtypes.html#str), y permite separar cadenas considerando un separador, que en este caso estará expresado con una expresión regular.\n",
    "* [`search`](https://docs.python.org/3.8/library/re.html#re.search): tiene un comportamiento similar a [`find`](https://docs.python.org/3.8/library/stdtypes.html#str.find) de [`str`](https://docs.python.org/3.8/library/stdtypes.html#str), y permite encontrar la primera aparición de una subcadena dentro de una cadena. En este caso, la subcadena a buscar se expresa como una expresión regular.\n",
    "* [`sub`](https://docs.python.org/3.8/library/re.html#re.sub): tiene un comportamiento similar a [`replace`](https://docs.python.org/3.8/library/stdtypes.html#str.replace) de [`str`](https://docs.python.org/3.8/library/stdtypes.html#str), y permite reemplazar subcadenas por otra cadena. En este caso, la subcadena que se quiere reemplazar se expresa como una expresión regular.\n",
    "\n",
    "Adicionalmente, también incorpora otras funciones que son de utilidad, tales como:\n",
    "\n",
    "* [`findall`](https://docs.python.org/3.8/library/re.html#re.findall): permite buscar todas las apariciones (no solapadas) de una subcadena dentro de otra cadena.\n",
    "\n",
    "A continuación, veremos cómo podemos utilizar estas funciones sin aprovechar la funcionalidad de las expresiones regulares (que presentaremos en el siguiente apartado).\n",
    "\n",
    "La función [`split`](https://docs.python.org/3.8/library/re.html#re.split) actúa de manera análoga a la [`split`](https://docs.python.org/3.8/library/stdtypes.html#str.split) de [`str`](https://docs.python.org/3.8/library/stdtypes.html#str), y devuelve una lista con las subcadenas separadas por un separador:\n"
   ]
  },
  {
   "attachments": {},
   "cell_type": "markdown",
   "metadata": {},
   "source": [
    "### 3.2.2. Sintaxis de las expresiones regulares\n",
    "\n",
    "En una expresión regular distinguimos dos tipos de caracteres:\n",
    "* Caracteres **normales**, que representan el propio carácter. Por ejemplo, una 'a' es una expresión regular válida que representa una cadena de caracteres de un solo carácter, que es la propia letra 'a'.\n",
    "* Caracteres **especiales**, que sirven o bien para representar grupos de caracteres o bien para explicar cómo hay que interpretar las expresiones que los rodean.\n",
    "\n",
    "Así, por ejemplo, algunos caracteres especiales se utilizan para representar **grupos de caracteres**:\n",
    "* `.`: representa cualquier carácter (por defecto, cualquier carácter excepto la nueva línea).\n",
    "* `\\d`: representa cualquier dígito decimal.\n",
    "* `\\s`: representa cualquier espacio en blanco.\n",
    "* `\\w`: representa caracteres que pueden formar parte de una palabra (letras mayúsculas y minúsculas, números, el guion bajo).\n",
    "* `[]`: permite indicar un conjunto de caracteres, ya sea individualmente ( `[abc]` permitiría representar las cadenas `a`,` b` o `c`), o como rango (`[A-Z]`representa todas las letras en mayúscula).\n",
    "\n",
    "Otros caracteres especiales dan información sobre **cómo interpretar** las expresiones:\n",
    "* `|`: Implementa el operador OR y permite crear una expresión regular que coincida o bien con una expresión regular o bien con otra.\n",
    "\n",
    "También hay un conjunto de caracteres especiales que permiten especificar **repeticiones** de expresiones regulares. Así, los caracteres siguientes indican las repeticiones de la expresión que las precede:\n",
    "* `*`: 0 o más apariciones.\n",
    "* `+`: 1 o más apariciones.\n",
    "* `?`: 0 o 1 aparición.\n",
    "* `{m}`: exactamente *m* apariciones.\n",
    "* `{m, n}`: entre *m* y _n_ apariciones. Si uno de los dos valores se omite, entonces solo se informa del mínimo o del máximo de apariciones.\n"
   ]
  },
  {
   "cell_type": "code",
   "execution_count": 64,
   "metadata": {},
   "outputs": [
    {
     "data": {
      "text/plain": [
       "['B',\n",
       " '',\n",
       " '',\n",
       " 't',\n",
       " 'f',\n",
       " 'l ',\n",
       " 's b',\n",
       " 'tt',\n",
       " 'r th',\n",
       " 'n ',\n",
       " 'gly.\\n',\n",
       " 'xpl',\n",
       " 'c',\n",
       " 't ',\n",
       " 's b',\n",
       " 'tt',\n",
       " 'r th',\n",
       " 'n ',\n",
       " 'mpl',\n",
       " 'c',\n",
       " 't.']"
      ]
     },
     "execution_count": 64,
     "metadata": {},
     "output_type": "execute_result"
    }
   ],
   "source": [
    "# Separamos la cadena por cualquier vocal\n",
    "re.split(r'[aeiouAEIOU]', pep_20)"
   ]
  },
  {
   "cell_type": "code",
   "execution_count": 80,
   "metadata": {},
   "outputs": [
    {
     "data": {
      "text/plain": [
       "'Beautiful is better than ugly.\\nExplicit is better than implicit.'"
      ]
     },
     "execution_count": 80,
     "metadata": {},
     "output_type": "execute_result"
    }
   ],
   "source": [
    "pep_20"
   ]
  },
  {
   "cell_type": "code",
   "execution_count": 81,
   "metadata": {},
   "outputs": [
    {
     "data": {
      "text/plain": [
       "['Beautiful is better than ugly', '\\nExplicit is better than implicit', '']"
      ]
     },
     "execution_count": 81,
     "metadata": {},
     "output_type": "execute_result"
    }
   ],
   "source": [
    "re.split(r'\\.', pep_20)"
   ]
  },
  {
   "cell_type": "code",
   "execution_count": 82,
   "metadata": {},
   "outputs": [],
   "source": [
    "pep_20_bis = \"Beautiful is better than ugly.\\nExplicit is better than \" \\\n",
    "    \"implicit. Butter Much Webetter. bitter. bYYYtter or btter. python.\""
   ]
  },
  {
   "cell_type": "code",
   "execution_count": 84,
   "metadata": {},
   "outputs": [
    {
     "name": "stdout",
     "output_type": "stream",
     "text": [
      "b\\wtter in pep_20: ['better', 'better']\n",
      "b\\wtter in pep_20_bis: ['better', 'better', 'better', 'bitter']\n"
     ]
    }
   ],
   "source": [
    "print(r\"b\\wtter in pep_20: {}\".format(re.findall(r\"b\\wtter\", pep_20)))\n",
    "print(r\"b\\wtter in pep_20_bis: {}\".format(re.findall(r\"b\\wtter\", pep_20_bis)))"
   ]
  },
  {
   "cell_type": "code",
   "execution_count": 85,
   "metadata": {},
   "outputs": [
    {
     "name": "stdout",
     "output_type": "stream",
     "text": [
      "b\\wtter in pep_20_bis: ['better', 'better', 'Butter', 'better', 'bitter']\n"
     ]
    }
   ],
   "source": [
    "print(r\"b\\wtter in pep_20_bis: {}\".format(\n",
    "    re.findall(r\"b\\wtter\", pep_20_bis, re.IGNORECASE)))"
   ]
  },
  {
   "attachments": {},
   "cell_type": "markdown",
   "metadata": {},
   "source": [
    " En segundo lugar, veremos ahora cómo buscar palabras que empiecen con 'b' y terminen con 'tter', pero aceptando más de una letra en medio. A partir de la expresión que hemos utilizado para una sola letra entre las dos subcadenas, podemos indicar que aceptamos cualquier número de repeticiones de la letra entre 'b' y 'tter' con el modificador *, o bien exigir que, como mínimo, haya una con +:"
   ]
  },
  {
   "cell_type": "code",
   "execution_count": 86,
   "metadata": {},
   "outputs": [
    {
     "name": "stdout",
     "output_type": "stream",
     "text": [
      "Using *: [' better ', ' better ', ' Butter ', ' bitter.', ' bYYYtter ', ' btter.']\n",
      "Using +: [' better ', ' better ', ' Butter ', ' bitter.', ' bYYYtter ']\n"
     ]
    }
   ],
   "source": [
    "print(\"Using *: {}\".format(\n",
    "    re.findall(r\"[ \\.]b\\w*tter[ \\.]\", pep_20_bis, re.IGNORECASE)))\n",
    "print(\"Using +: {}\".format(\n",
    "    re.findall(r\"[ \\.]b\\w+tter[ \\.]\", pep_20_bis, re.IGNORECASE)))"
   ]
  },
  {
   "cell_type": "code",
   "execution_count": 87,
   "metadata": {},
   "outputs": [
    {
     "name": "stdout",
     "output_type": "stream",
     "text": [
      "6 letter words: [' better ', ' better ', ' Butter ', ' bitter.', ' python.']\n",
      "6 letter words: [' better ', ' better ', ' Butter ', ' bitter.', ' python.']\n"
     ]
    }
   ],
   "source": [
    " # Repitiendo el carácter \\w 6 veces explícitamente:\n",
    "print(\"6 letter words: {}\".format(\n",
    "    re.findall(r\"[ \\.]\\w\\w\\w\\w\\w\\w[ \\.]\", pep_20_bis)))\n",
    "# Especificando el número de repeticiones con {}:\n",
    "print(\"6 letter words: {}\".format(\n",
    "    re.findall(r\"[ \\.]\\w{6}[ \\.]\", pep_20_bis)))"
   ]
  },
  {
   "attachments": {},
   "cell_type": "markdown",
   "metadata": {},
   "source": [
    "## Funciones de tiempo y fechas\n",
    "\n",
    "- https://docs.python.org/3/library/datetime.html#strftime-and-strptime-format-codes"
   ]
  },
  {
   "cell_type": "code",
   "execution_count": 90,
   "metadata": {},
   "outputs": [
    {
     "name": "stdout",
     "output_type": "stream",
     "text": [
      "2017-10-01\n",
      "17:14:42\n",
      "2017-10-01 17:14:42\n"
     ]
    }
   ],
   "source": [
    "import datetime as dt\n",
    "\n",
    "# Creamos un objeto date que representa una fecha concreta\n",
    "a_date = dt.date(year=2017, month=10, day=1)\n",
    "# De manera más concisa, podríamos hacer:\n",
    "# a_date = datetime.date(2017, 1, 11)\n",
    "print(a_date)\n",
    "\n",
    "# Creamos un objeto time que representa una hora\n",
    "a_time = dt.time(hour=17, minute=14, second=42)\n",
    "# De manera más concisa, podríamos hacer:\n",
    "# a_time = datetime.time(17, 14, 42)\n",
    "print(a_time)\n",
    "\n",
    "# Creamos un objeto datetime, que representa una fecha con tiempo\n",
    "a_datetime = dt.datetime(year=2017, month=10, day=1,\n",
    "                               hour=17, minute=14, second=42)\n",
    "# De manera más concisa, podríamos hacer:\n",
    "# a_datetime = datetime.datetime(2017, 1, 11, 17, 14, 42)\n",
    "print(a_datetime)"
   ]
  },
  {
   "cell_type": "code",
   "execution_count": 91,
   "metadata": {},
   "outputs": [
    {
     "name": "stdout",
     "output_type": "stream",
     "text": [
      "2017-10-01 17:14:42\n"
     ]
    },
    {
     "data": {
      "text/plain": [
       "True"
      ]
     },
     "execution_count": 91,
     "metadata": {},
     "output_type": "execute_result"
    }
   ],
   "source": [
    "str_date = \"2017-10-01 17:14:42\"\n",
    "a_datetime_from_str = dt.datetime.strptime(str_date, \"%Y-%m-%d %H:%M:%S\")\n",
    "print(a_datetime_from_str)\n",
    "a_datetime == a_datetime_from_str"
   ]
  },
  {
   "cell_type": "code",
   "execution_count": 92,
   "metadata": {},
   "outputs": [
    {
     "data": {
      "text/plain": [
       "datetime.datetime"
      ]
     },
     "execution_count": 92,
     "metadata": {},
     "output_type": "execute_result"
    }
   ],
   "source": [
    "type(a_datetime)"
   ]
  },
  {
   "cell_type": "code",
   "execution_count": 93,
   "metadata": {},
   "outputs": [
    {
     "name": "stdout",
     "output_type": "stream",
     "text": [
      "2017-01-10 17:14:42\n"
     ]
    }
   ],
   "source": [
    "a_date_from_str = dt.datetime.strptime(str_date, \"%Y-%d-%m %H:%M:%S\")\n",
    "print(a_date_from_str)"
   ]
  },
  {
   "cell_type": "code",
   "execution_count": 94,
   "metadata": {},
   "outputs": [
    {
     "name": "stdout",
     "output_type": "stream",
     "text": [
      "2017-10-01 17:14:42\n"
     ]
    }
   ],
   "source": [
    " # Cambiando el formato de los separadores\n",
    "a_date_from_str = dt.datetime.strptime(\n",
    "    \"2017/10/01 17*14*42\", \"%Y/%m/%d %H*%M*%S\")\n",
    "print(a_date_from_str)"
   ]
  },
  {
   "cell_type": "code",
   "execution_count": 95,
   "metadata": {},
   "outputs": [
    {
     "name": "stdout",
     "output_type": "stream",
     "text": [
      "2017-10-01 17:14:42\n",
      "1995-10-01 17:14:42\n"
     ]
    }
   ],
   "source": [
    " # Expresando el año con dos dígitos\n",
    "a_date_from_str = dt.datetime.strptime(\n",
    "    \"17-10-01 17:14:42\", \"%y-%m-%d %H:%M:%S\")\n",
    "print(a_date_from_str)\n",
    "a_date_from_str = dt.datetime.strptime(\n",
    "    \"95-10-01 17:14:42\", \"%y-%m-%d %H:%M:%S\")\n",
    "print(a_date_from_str)"
   ]
  },
  {
   "cell_type": "code",
   "execution_count": 98,
   "metadata": {},
   "outputs": [
    {
     "name": "stdout",
     "output_type": "stream",
     "text": [
      "2017-10-01 17:14:42\n"
     ]
    }
   ],
   "source": [
    " # Incluyendo el día de la semana y expresando el mes con el nombre\n",
    "a_date_from_str = dt.datetime.strptime(\n",
    "    'Sunday, 01 October 2017 17:14:42', \"%A, %d %B %Y %H:%M:%S\")\n",
    "print(a_date_from_str)"
   ]
  },
  {
   "attachments": {},
   "cell_type": "markdown",
   "metadata": {},
   "source": [
    " En informática, también se puede utilizar el `unix timestamp` como manera de medir el tiempo. El unix time stamp representa el tiempo como un entero, que cuenta los segundos transcurridos desde el 1 de enero de 1970. Podemos crear objetos que representan una fecha a partir de un unix time stamp con el método "
   ]
  },
  {
   "cell_type": "code",
   "execution_count": 97,
   "metadata": {},
   "outputs": [
    {
     "name": "stdout",
     "output_type": "stream",
     "text": [
      "2019-11-15\n"
     ]
    }
   ],
   "source": [
    "a_date_from_ts = dt.date.fromtimestamp(1573840426)\n",
    "print(a_date_from_ts)"
   ]
  },
  {
   "cell_type": "code",
   "execution_count": 99,
   "metadata": {},
   "outputs": [
    {
     "name": "stdout",
     "output_type": "stream",
     "text": [
      "2023-06-16\n",
      "2023-06-16 20:09:32.814996\n"
     ]
    }
   ],
   "source": [
    "# Creamos un objeto con la fecha actual\n",
    "now_date = dt.date.today()\n",
    "print(now_date)\n",
    "\n",
    "# Creamos un objeto con la fecha y hora actual\n",
    "now_datetime = dt.datetime.now()\n",
    "print(now_datetime)"
   ]
  },
  {
   "cell_type": "code",
   "execution_count": 100,
   "metadata": {},
   "outputs": [
    {
     "data": {
      "text/plain": [
       "datetime.datetime"
      ]
     },
     "execution_count": 100,
     "metadata": {},
     "output_type": "execute_result"
    }
   ],
   "source": [
    "type(now_datetime)"
   ]
  },
  {
   "cell_type": "code",
   "execution_count": 101,
   "metadata": {},
   "outputs": [
    {
     "name": "stdout",
     "output_type": "stream",
     "text": [
      "2023-06-16 20:10:31\n",
      "2023-16-06 20:10:31\n",
      "2023/06/16 20*10*31\n",
      "23-06-16 20:10:31\n",
      "Friday, 16 June 2023 20:10:31\n",
      "Fri, 16 Jun 2023 20:10:31\n"
     ]
    }
   ],
   "source": [
    "# Creamos un objeto con la fecha y hora actual\n",
    "now_datetime = dt.datetime.now()\n",
    "\n",
    "# Mostramos la fecha y hora utilizando 4 dígitos para los años, y 2\n",
    "# para el mes, día, hora, minuto y segundos\n",
    "print(now_datetime.strftime(\"%Y-%m-%d %H:%M:%S\"))\n",
    "\n",
    "# Invertimos el orden del día y el mes\n",
    "print(now_datetime.strftime(\"%Y-%d-%m %H:%M:%S\"))\n",
    "\n",
    "# Cambiamos el formato de los separadores\n",
    "print(now_datetime.strftime(\"%Y/%m/%d %H*%M*%S\"))\n",
    "\n",
    "# Expresando el año con dos dígitos\n",
    "print(now_datetime.strftime(\"%y-%m-%d %H:%M:%S\"))\n",
    "\n",
    "# Incluyendo el día de la semana y expresando el mes con el nombre\n",
    "print(now_datetime.strftime(\"%A, %d %B %Y %H:%M:%S\"))\n",
    "\n",
    "# Con el día de la semana y el mes abreviados\n",
    "print(now_datetime.strftime(\"%a, %d %b %Y %H:%M:%S\"))"
   ]
  },
  {
   "cell_type": "code",
   "execution_count": 102,
   "metadata": {},
   "outputs": [
    {
     "data": {
      "text/plain": [
       "'2023-06-16T20:10:31.166646'"
      ]
     },
     "execution_count": 102,
     "metadata": {},
     "output_type": "execute_result"
    }
   ],
   "source": [
    " # Mostramos la fecha y hora en formato ISO 8601\n",
    "now_datetime.isoformat()"
   ]
  },
  {
   "cell_type": "code",
   "execution_count": 103,
   "metadata": {},
   "outputs": [
    {
     "name": "stdout",
     "output_type": "stream",
     "text": [
      "Year is 2023 and is an <class 'int'>\n",
      "Month is 6 and is an <class 'int'>\n",
      "Day is 16 and is an <class 'int'>\n",
      "Hour is 20 and is an <class 'int'>\n",
      "Minute is 10 and is an <class 'int'>\n",
      "Second is 31 and is an <class 'int'>\n"
     ]
    }
   ],
   "source": [
    "# Accedemos a las diferentes componentes de una fecha con hora\n",
    "y = now_datetime.year\n",
    "mo = now_datetime.month\n",
    "d = now_datetime.day\n",
    "h = now_datetime.hour\n",
    "mi = now_datetime.minute\n",
    "s = now_datetime.second\n",
    "\n",
    "print(\"Year is {} and is an {}\".format(y, type(y)))\n",
    "print(\"Month is {} and is an {}\".format(mo, type(mo)))\n",
    "print(\"Day is {} and is an {}\".format(d, type(d)))\n",
    "print(\"Hour is {} and is an {}\".format(h, type(h)))\n",
    "print(\"Minute is {} and is an {}\".format(mi, type(mi)))\n",
    "print(\"Second is {} and is an {}\".format(s, type(s)))"
   ]
  },
  {
   "cell_type": "code",
   "execution_count": 105,
   "metadata": {},
   "outputs": [
    {
     "name": "stdout",
     "output_type": "stream",
     "text": [
      "2023-07-16\n",
      "2023-05-17\n"
     ]
    }
   ],
   "source": [
    " # Creamos un objeto con la fecha actual\n",
    "now_date = dt.date.today()\n",
    "\n",
    "# Creamos un datetime de 30 días\n",
    "dt_30days = dt.timedelta(days=30)\n",
    "\n",
    "# Sumamos los 30 días a la fecha actual\n",
    "print(now_date + dt_30days)\n",
    "\n",
    "# Restamos los 30 días a la fecha actual\n",
    "print(now_date - dt_30days)"
   ]
  },
  {
   "cell_type": "code",
   "execution_count": 107,
   "metadata": {},
   "outputs": [
    {
     "name": "stdout",
     "output_type": "stream",
     "text": [
      "now_1_dt == now_2_dt: False\n",
      "now_1_dt < now_2_dt: True\n",
      "now_1_dt.date() == now_2_dt.date(): True\n"
     ]
    }
   ],
   "source": [
    "# Importamos la función sleep, que permite introducir esperas en la ejecución\n",
    "# de código\n",
    "from time import sleep\n",
    "\n",
    "# Obtenemos la fecha y hora actuales\n",
    "now_1_dt = dt.datetime.now()\n",
    "# Esperamos 3 segundos\n",
    "sleep(3)\n",
    "# Obtenemos la fecha y hora actuales (después de la espera de 3 segundos)\n",
    "now_2_dt = dt.datetime.now()\n",
    "\n",
    "# Comparamos las dos fechas\n",
    "print('now_1_dt == now_2_dt: {}'.format(now_1_dt == now_2_dt))\n",
    "print('now_1_dt < now_2_dt: {}'.format(now_1_dt < now_2_dt))\n",
    "print('now_1_dt.date() == now_2_dt.date(): {}'.format(\n",
    "    now_1_dt.date() == now_2_dt.date()))"
   ]
  },
  {
   "cell_type": "code",
   "execution_count": 108,
   "metadata": {},
   "outputs": [
    {
     "name": "stdout",
     "output_type": "stream",
     "text": [
      "One day in the future: 2023-06-17 20:15:13.726348\n",
      "One day in the past: 2023-06-15 20:15:13.726348\n",
      "Adding one microsecond: 2023-06-16 20:15:13.726349\n"
     ]
    }
   ],
   "source": [
    " # Creamos varios timedeltas\n",
    "one_day = dt.timedelta(days=1)\n",
    "eleven_seconds = dt.timedelta(seconds=11)\n",
    "five_hours = dt.timedelta(hours=5)\n",
    "eleven_and_so_seconds = dt.timedelta(seconds=11.56845)\n",
    "one_microsecond = dt.timedelta(microseconds=1)\n",
    "\n",
    "# Operamos con los timedeltas\n",
    "print(\"One day in the future: {}\".format(now_1_dt + one_day))\n",
    "print(\"One day in the past: {}\".format(now_1_dt - one_day))\n",
    "print(\"Adding one microsecond: {}\".format(now_1_dt + one_microsecond))"
   ]
  },
  {
   "cell_type": "code",
   "execution_count": 111,
   "metadata": {},
   "outputs": [
    {
     "name": "stdout",
     "output_type": "stream",
     "text": [
      "Timedelta between dt_1 and dt_2: 61 days, 0:00:00\n",
      "Timedelta between dt_1 and dt_3: 14 days, 3:02:00\n",
      "Timedelta between dt_2 and dt_3: -47 days, 3:02:00\n"
     ]
    }
   ],
   "source": [
    " # Creamos tres datetimes\n",
    "dt_1 = dt.datetime(year=2017, month=10, day=1,\n",
    "                         hour=17, minute=14, second=42)\n",
    "\n",
    "dt_2 = dt.datetime(year=2017, month=12, day=1,\n",
    "                         hour=17, minute=14, second=42)\n",
    "\n",
    "dt_3 = dt.datetime(year=2017, month=10, day=15,\n",
    "                         hour=20, minute=16, second=42)\n",
    "\n",
    "# Creamos timedeltas con las diferencias\n",
    "tm_1 = dt_2 - dt_1\n",
    "tm_2 = dt_3 - dt_1\n",
    "tm_3 = dt_3 - dt_2\n",
    "print(\"Timedelta between dt_1 and dt_2: {}\".format(tm_1))\n",
    "print(\"Timedelta between dt_1 and dt_3: {}\".format(tm_2))\n",
    "print(\"Timedelta between dt_2 and dt_3: {}\".format(tm_3))"
   ]
  }
 ],
 "metadata": {
  "kernelspec": {
   "display_name": "ramp_up_py395",
   "language": "python",
   "name": "python3"
  },
  "language_info": {
   "codemirror_mode": {
    "name": "ipython",
    "version": 3
   },
   "file_extension": ".py",
   "mimetype": "text/x-python",
   "name": "python",
   "nbconvert_exporter": "python",
   "pygments_lexer": "ipython3",
   "version": "3.9.5"
  },
  "orig_nbformat": 4
 },
 "nbformat": 4,
 "nbformat_minor": 2
}
