{
  "cells": [
    {
      "attachments": {},
      "cell_type": "markdown",
      "metadata": {
        "id": "z2zwUgnGf1zL"
      },
      "source": [
        "### Ejercicio 5\n",
        "\n",
        "Para trabajar esta parte, vamos a realizar el scraping de datos relativos al mercado eléctrico español mediante una API que proporciona datos de generación, demanda, transporte, etc. de electricidad publicado por REE (Red Eléctrica de España).\n",
        "\n",
        "La documentacion de la API está disponible en: https://www.ree.es/en/apidatos"
      ]
    },
    {
      "attachments": {},
      "cell_type": "markdown",
      "metadata": {},
      "source": [
        "En primer lugar, debemos cargar las librerías que vamos a utilizar y definir la URL común a todas las solicitudes (_requests_) que vamos a realizar (url_base) y especificar los paramétros de la petición que deseemos hacer:"
      ]
    },
    {
      "cell_type": "code",
      "execution_count": 10,
      "metadata": {
        "id": "dsxGKIMHfyiN"
      },
      "outputs": [],
      "source": [
        "# Cargar librerías\n",
        "# ToDo\n",
        "import pandas as pd\n",
        "import numpy as np\n",
        "import matplotlib.pyplot as plt\n",
        "import seaborn as sns\n",
        "\n",
        "import datetime\n",
        "import logging\n",
        "import time\n",
        "import requests\n",
        "import json"
      ]
    },
    {
      "cell_type": "code",
      "execution_count": 5,
      "metadata": {},
      "outputs": [],
      "source": [
        "FORMAT = '%(asctime)-15s - %(message)s'\n",
        "logging.basicConfig(format=FORMAT)\n",
        "logger = logging.getLogger(\"main.py\")\n",
        "logger.setLevel(\"INFO\")"
      ]
    },
    {
      "cell_type": "code",
      "execution_count": 5,
      "metadata": {},
      "outputs": [],
      "source": [
        "categoria = 'generacion'\n",
        "subcategoria = 'estructura-generacion'\n",
        "start_date = '2022-01-01T00:00'\n",
        "end_date =  '2022-12-31T23:59'\n",
        "freq = 'year'\n",
        "com_aut = '9'\n",
        "geo_limit = 'ccaa'\n",
        "geo_trunc = 'electric_system'"
      ]
    },
    {
      "cell_type": "code",
      "execution_count": 6,
      "metadata": {},
      "outputs": [],
      "source": [
        "# Definir la URL común a todas las requests de la web que vamos a scrapear\n",
        "url_base = 'https://apidatos.ree.es/es/datos/'\n",
        "url_compl = f'{categoria}/{subcategoria}?start_date={start_date}&end_date={end_date}&time_trunc={freq}&geo_trunc={geo_trunc}&geo_limit={geo_limit}&geo_ids={com_aut}'"
      ]
    },
    {
      "attachments": {},
      "cell_type": "markdown",
      "metadata": {},
      "source": [
        "- Generar los datos anuales 2022 para la CCAA Catalunya"
      ]
    },
    {
      "cell_type": "code",
      "execution_count": 7,
      "metadata": {},
      "outputs": [
        {
          "name": "stdout",
          "output_type": "stream",
          "text": [
            "Respuesta generación electríca Catalunya: 200\n"
          ]
        }
      ],
      "source": [
        "# Realizamos el requests\n",
        "resp_cat = requests.get(url_base+url_compl)\n",
        "\n",
        "print(f'Respuesta generación electríca Catalunya: {resp_cat.status_code}')"
      ]
    },
    {
      "cell_type": "code",
      "execution_count": 12,
      "metadata": {},
      "outputs": [
        {
          "data": {
            "text/plain": [
              "{'data': {'type': 'Generación por tecnología',\n",
              "  'id': 'gen1',\n",
              "  'attributes': {'title': 'Generación por tecnología',\n",
              "   'last-update': None,\n",
              "   'description': None},\n",
              "  'meta': {'cache-control': {'cache': 'MISS'}}},\n",
              " 'included': [{'type': 'Hidráulica',\n",
              "   'id': '10330',\n",
              "   'groupId': '1',\n",
              "   'attributes': {'title': 'Hidráulica',\n",
              "    'description': None,\n",
              "    'color': '#0090d1',\n",
              "    'type': 'Renovable',\n",
              "    'magnitude': None,\n",
              "    'composite': False,\n",
              "    'last-update': '2022-10-25T16:31:53.000+02:00',\n",
              "    'values': [{'value': 1876457.168,\n",
              "      'percentage': 0.07556894917785026,\n",
              "      'datetime': '2022-01-01T00:00:00.000+01:00'}]}},\n",
              "  {'type': 'Turbinación bombeo',\n",
              "   'id': '1694',\n",
              "   'groupId': '1',\n",
              "   'attributes': {'title': 'Turbinación bombeo',\n",
              "    'description': None,\n",
              "    'color': '#007cf9',\n",
              "    'type': 'No-Renovable',\n",
              "    'magnitude': None,\n",
              "    'composite': False,\n",
              "    'last-update': '2022-10-25T16:31:53.000+02:00',\n",
              "    'values': [{'value': 104159.795,\n",
              "      'percentage': 0.004194738035571458,\n",
              "      'datetime': '2022-01-01T00:00:00.000+01:00'}]}},\n",
              "  {'type': 'Nuclear',\n",
              "   'id': '1695',\n",
              "   'groupId': '1',\n",
              "   'attributes': {'title': 'Nuclear',\n",
              "    'description': None,\n",
              "    'color': '#464394',\n",
              "    'type': 'No-Renovable',\n",
              "    'magnitude': None,\n",
              "    'composite': False,\n",
              "    'last-update': '2022-10-25T16:31:54.000+02:00',\n",
              "    'values': [{'value': 14251847.435,\n",
              "      'percentage': 0.5739524210157674,\n",
              "      'datetime': '2022-01-01T00:00:00.000+01:00'}]}},\n",
              "  {'type': 'Ciclo combinado',\n",
              "   'id': '1703',\n",
              "   'groupId': '1',\n",
              "   'attributes': {'title': 'Ciclo combinado',\n",
              "    'description': None,\n",
              "    'color': '#ffcc66',\n",
              "    'type': 'No-Renovable',\n",
              "    'magnitude': None,\n",
              "    'composite': False,\n",
              "    'last-update': '2022-10-25T16:31:54.000+02:00',\n",
              "    'values': [{'value': 4128257.484,\n",
              "      'percentage': 0.16625377084092122,\n",
              "      'datetime': '2022-01-01T00:00:00.000+01:00'}]}},\n",
              "  {'type': 'Eólica',\n",
              "   'id': '10333',\n",
              "   'groupId': '1',\n",
              "   'attributes': {'title': 'Eólica',\n",
              "    'description': None,\n",
              "    'color': '#6fb114',\n",
              "    'type': 'Renovable',\n",
              "    'magnitude': None,\n",
              "    'composite': False,\n",
              "    'last-update': '2022-10-25T16:31:54.000+02:00',\n",
              "    'values': [{'value': 1535896.86,\n",
              "      'percentage': 0.06185385615780802,\n",
              "      'datetime': '2022-01-01T00:00:00.000+01:00'}]}},\n",
              "  {'type': 'Solar fotovoltaica',\n",
              "   'id': '1707',\n",
              "   'groupId': '1',\n",
              "   'attributes': {'title': 'Solar fotovoltaica',\n",
              "    'description': None,\n",
              "    'color': '#e48500',\n",
              "    'type': 'Renovable',\n",
              "    'magnitude': None,\n",
              "    'composite': False,\n",
              "    'last-update': '2022-10-25T16:31:54.000+02:00',\n",
              "    'values': [{'value': 272280.8,\n",
              "      'percentage': 0.010965330990866726,\n",
              "      'datetime': '2022-01-01T00:00:00.000+01:00'}]}},\n",
              "  {'type': 'Solar térmica',\n",
              "   'id': '1708',\n",
              "   'groupId': '1',\n",
              "   'attributes': {'title': 'Solar térmica',\n",
              "    'description': None,\n",
              "    'color': '#ff0000',\n",
              "    'type': 'Renovable',\n",
              "    'magnitude': None,\n",
              "    'composite': False,\n",
              "    'last-update': '2022-10-25T16:31:54.000+02:00',\n",
              "    'values': [{'value': 47311.687,\n",
              "      'percentage': 0.001905342968330071,\n",
              "      'datetime': '2022-01-01T00:00:00.000+01:00'}]}},\n",
              "  {'type': 'Otras renovables',\n",
              "   'id': '10334',\n",
              "   'groupId': '1',\n",
              "   'attributes': {'title': 'Otras renovables',\n",
              "    'description': None,\n",
              "    'color': '#9a5cbc',\n",
              "    'type': 'Renovable',\n",
              "    'magnitude': None,\n",
              "    'composite': False,\n",
              "    'last-update': '2022-10-25T16:31:54.000+02:00',\n",
              "    'values': [{'value': 96379.307,\n",
              "      'percentage': 0.0038814011194522654,\n",
              "      'datetime': '2022-01-01T00:00:00.000+01:00'}]}},\n",
              "  {'type': 'Cogeneración',\n",
              "   'id': '10335',\n",
              "   'groupId': '1',\n",
              "   'attributes': {'title': 'Cogeneración',\n",
              "    'description': None,\n",
              "    'color': '#cfa2ca',\n",
              "    'type': 'No-Renovable',\n",
              "    'magnitude': None,\n",
              "    'composite': False,\n",
              "    'last-update': '2022-10-25T16:31:54.000+02:00',\n",
              "    'values': [{'value': 2345452.327,\n",
              "      'percentage': 0.09445638873124208,\n",
              "      'datetime': '2022-01-01T00:00:00.000+01:00'}]}},\n",
              "  {'type': 'Residuos no renovables',\n",
              "   'id': '10336',\n",
              "   'groupId': '1',\n",
              "   'attributes': {'title': 'Residuos no renovables',\n",
              "    'description': None,\n",
              "    'color': '#666666',\n",
              "    'type': 'Renovable',\n",
              "    'magnitude': None,\n",
              "    'composite': False,\n",
              "    'last-update': '2022-10-25T16:31:54.000+02:00',\n",
              "    'values': [{'value': 88089.821,\n",
              "      'percentage': 0.0035475657636939604,\n",
              "      'datetime': '2022-01-01T00:00:00.000+01:00'}]}},\n",
              "  {'type': 'Residuos renovables',\n",
              "   'id': '10337',\n",
              "   'groupId': '1',\n",
              "   'attributes': {'title': 'Residuos renovables',\n",
              "    'description': None,\n",
              "    'color': '#a0a0a0',\n",
              "    'type': 'Renovable',\n",
              "    'magnitude': None,\n",
              "    'composite': False,\n",
              "    'last-update': '2022-10-25T16:31:54.000+02:00',\n",
              "    'values': [{'value': 84928.068,\n",
              "      'percentage': 0.0034202351984966867,\n",
              "      'datetime': '2022-01-01T00:00:00.000+01:00'}]}},\n",
              "  {'type': 'Generación total',\n",
              "   'id': '1',\n",
              "   'groupId': '1',\n",
              "   'attributes': {'title': 'Generación total',\n",
              "    'description': None,\n",
              "    'color': '#2b2e34',\n",
              "    'type': 'Generación total',\n",
              "    'magnitude': None,\n",
              "    'composite': True,\n",
              "    'last-update': '2022-10-25T16:31:53.000+02:00',\n",
              "    'values': [{'value': 24831060.751999997,\n",
              "      'percentage': 1,\n",
              "      'datetime': '2022-01-01T00:00:00.000+01:00'}]}}]}"
            ]
          },
          "execution_count": 12,
          "metadata": {},
          "output_type": "execute_result"
        }
      ],
      "source": [
        "type(resp_cat.json())\n",
        "resp_cat.json()"
      ]
    },
    {
      "cell_type": "code",
      "execution_count": 13,
      "metadata": {},
      "outputs": [
        {
          "data": {
            "text/plain": [
              "dict_keys(['data', 'included'])"
            ]
          },
          "execution_count": 13,
          "metadata": {},
          "output_type": "execute_result"
        }
      ],
      "source": [
        "resp_cat.json().keys()"
      ]
    },
    {
      "cell_type": "code",
      "execution_count": 31,
      "metadata": {},
      "outputs": [
        {
          "data": {
            "text/plain": [
              "dict_items([('type', 'Residuos renovables'), ('id', '10337'), ('groupId', '1'), ('attributes', {'title': 'Residuos renovables', 'description': None, 'color': '#a0a0a0', 'type': 'Renovable', 'magnitude': None, 'composite': False, 'last-update': '2022-10-25T16:31:54.000+02:00', 'values': [{'value': 84928.068, 'percentage': 0.0034202351984966867, 'datetime': '2022-01-01T00:00:00.000+01:00'}]})])"
            ]
          },
          "execution_count": 31,
          "metadata": {},
          "output_type": "execute_result"
        }
      ],
      "source": [
        "resp_cat.json().get('included')[10].items()"
      ]
    },
    {
      "attachments": {},
      "cell_type": "markdown",
      "metadata": {},
      "source": [
        "# 1.\n",
        "\n",
        "Para el año 2021, devolver el porcentaje anual de generación renovable y no renovable (evolucion-renovable-no-renovable) para Aragón y Cataluña."
      ]
    },
    {
      "cell_type": "code",
      "execution_count": 12,
      "metadata": {},
      "outputs": [
        {
          "name": "stdout",
          "output_type": "stream",
          "text": [
            "Estado de la respuesta Aragón: 200\n",
            "Estado de la respuesta Catalunya: 200\n"
          ]
        }
      ],
      "source": [
        "# Inicializar los valores de los parámetros introducidos por el usuario y almacenarlos en variables\n",
        "\n",
        "category = input(\"Introduzca la category: \") # ToDo\n",
        "widget = input(\"Introduzca el wiget: \") # ToDo\n",
        "fecha_inicio = input(\"introduzca la fecha de inicio (formato YYYY-MM-DDT00:00): \") # ToDo\n",
        "fecha_fin = input(\"introduzca la fecha final (formato YYYY-MM-DDT23:59): \") # ToDo\n",
        "freq = input(\"introduzca la frecuencia: (hour, day, month, year) \") # ToDo\n",
        "\n",
        "# Introducimos las ids para Aragón y Catalunya\n",
        "\n",
        "ccaa_ids = {\n",
        "    \"Aragón\" : \"5\",\n",
        "    \"Catalunya\" : \"9\"\n",
        "}\n",
        "\n",
        "ccaa_df = pd.DataFrame()\n",
        "\n",
        "url_base = f'https://apidatos.ree.es/es/datos/{category}/{widget}'\n",
        "\n",
        "for k, v in ccaa_ids.items():\n",
        "    for geo_id in v:\n",
        "        \n",
        "        try:\n",
        "            # Creamos los parámetros del payloads\n",
        "            \n",
        "        except:\n",
        "            "
      ]
    },
    {
      "attachments": {},
      "cell_type": "markdown",
      "metadata": {},
      "source": [
        "2. Obtener la evolución anual del balance de renovables y no renovables para Aragón y Cataluña de 2017 a 2021 (ambos incluidos). Mostrar el resultado tanto en fomrato DataFrame como en una gráfica que ilustre la evolución temporal. Para la visualización se recomienda el uso de la librería matplotlib."
      ]
    },
    {
      "cell_type": "code",
      "execution_count": 15,
      "metadata": {},
      "outputs": [],
      "source": [
        "# Cargamos las librerías\n",
        "import re\n",
        "import matplotlib.pyplot as plt"
      ]
    },
    {
      "cell_type": "code",
      "execution_count": 16,
      "metadata": {},
      "outputs": [
        {
          "name": "stdout",
          "output_type": "stream",
          "text": [
            "Estado de la respuesta Aragón: 200\n",
            "Estado de la respuesta Catalunya: 200\n"
          ]
        }
      ],
      "source": [
        "# Inicializar los valores de los parámetros introducidos por el usuario y almacenarlos en variables\n",
        "\n",
        "category = input(\"Introduzca la category: \") # ToDo\n",
        "widget = input(\"Introduzca el wiget: \") # ToDo\n",
        "fecha_inicio = input(\"introduzca la fecha de inicio (formato YYYY-MM-DDT00:00): \") # ToDo\n",
        "fecha_fin = input(\"introduzca la fecha final (formato YYYY-MM-DDT23:59): \") # ToDo\n",
        "freq = input(\"introduzca la frecuencia: (hour, day, month, year) \") # ToDo\n",
        "\n",
        "# Introducimos las ids para Aragón y Catalunya\n"
      ]
    },
    {
      "cell_type": "code",
      "execution_count": 17,
      "metadata": {},
      "outputs": [
        {
          "data": {
            "text/html": [
              "<div>\n",
              "<style scoped>\n",
              "    .dataframe tbody tr th:only-of-type {\n",
              "        vertical-align: middle;\n",
              "    }\n",
              "\n",
              "    .dataframe tbody tr th {\n",
              "        vertical-align: top;\n",
              "    }\n",
              "\n",
              "    .dataframe thead th {\n",
              "        text-align: right;\n",
              "    }\n",
              "</style>\n",
              "<table border=\"1\" class=\"dataframe\">\n",
              "  <thead>\n",
              "    <tr style=\"text-align: right;\">\n",
              "      <th></th>\n",
              "      <th>CCAA</th>\n",
              "      <th>Type</th>\n",
              "      <th>Valor</th>\n",
              "      <th>Datetime</th>\n",
              "    </tr>\n",
              "  </thead>\n",
              "  <tbody>\n",
              "    <tr>\n",
              "      <th>0</th>\n",
              "      <td>Aragón</td>\n",
              "      <td>Generación renovable</td>\n",
              "      <td>7.462987e+06</td>\n",
              "      <td>2017-01-01 00:00:00+01:00</td>\n",
              "    </tr>\n",
              "    <tr>\n",
              "      <th>1</th>\n",
              "      <td>Aragón</td>\n",
              "      <td>Generación renovable</td>\n",
              "      <td>8.564999e+06</td>\n",
              "      <td>2018-01-01 00:00:00+01:00</td>\n",
              "    </tr>\n",
              "    <tr>\n",
              "      <th>2</th>\n",
              "      <td>Aragón</td>\n",
              "      <td>Generación renovable</td>\n",
              "      <td>8.293142e+06</td>\n",
              "      <td>2019-01-01 00:00:00+01:00</td>\n",
              "    </tr>\n",
              "    <tr>\n",
              "      <th>3</th>\n",
              "      <td>Aragón</td>\n",
              "      <td>Generación renovable</td>\n",
              "      <td>1.233336e+07</td>\n",
              "      <td>2020-01-01 00:00:00+01:00</td>\n",
              "    </tr>\n",
              "    <tr>\n",
              "      <th>4</th>\n",
              "      <td>Aragón</td>\n",
              "      <td>Generación renovable</td>\n",
              "      <td>1.513617e+07</td>\n",
              "      <td>2021-01-01 00:00:00+01:00</td>\n",
              "    </tr>\n",
              "    <tr>\n",
              "      <th>5</th>\n",
              "      <td>Aragón</td>\n",
              "      <td>Generación no renovable</td>\n",
              "      <td>9.271154e+06</td>\n",
              "      <td>2017-01-01 00:00:00+01:00</td>\n",
              "    </tr>\n",
              "    <tr>\n",
              "      <th>6</th>\n",
              "      <td>Aragón</td>\n",
              "      <td>Generación no renovable</td>\n",
              "      <td>6.632646e+06</td>\n",
              "      <td>2018-01-01 00:00:00+01:00</td>\n",
              "    </tr>\n",
              "    <tr>\n",
              "      <th>7</th>\n",
              "      <td>Aragón</td>\n",
              "      <td>Generación no renovable</td>\n",
              "      <td>7.058639e+06</td>\n",
              "      <td>2019-01-01 00:00:00+01:00</td>\n",
              "    </tr>\n",
              "    <tr>\n",
              "      <th>8</th>\n",
              "      <td>Aragón</td>\n",
              "      <td>Generación no renovable</td>\n",
              "      <td>5.718906e+06</td>\n",
              "      <td>2020-01-01 00:00:00+01:00</td>\n",
              "    </tr>\n",
              "    <tr>\n",
              "      <th>9</th>\n",
              "      <td>Aragón</td>\n",
              "      <td>Generación no renovable</td>\n",
              "      <td>4.342064e+06</td>\n",
              "      <td>2021-01-01 00:00:00+01:00</td>\n",
              "    </tr>\n",
              "    <tr>\n",
              "      <th>10</th>\n",
              "      <td>Catalunya</td>\n",
              "      <td>Generación renovable</td>\n",
              "      <td>7.359630e+06</td>\n",
              "      <td>2017-01-01 00:00:00+01:00</td>\n",
              "    </tr>\n",
              "    <tr>\n",
              "      <th>11</th>\n",
              "      <td>Catalunya</td>\n",
              "      <td>Generación renovable</td>\n",
              "      <td>8.840418e+06</td>\n",
              "      <td>2018-01-01 00:00:00+01:00</td>\n",
              "    </tr>\n",
              "    <tr>\n",
              "      <th>12</th>\n",
              "      <td>Catalunya</td>\n",
              "      <td>Generación renovable</td>\n",
              "      <td>7.261328e+06</td>\n",
              "      <td>2019-01-01 00:00:00+01:00</td>\n",
              "    </tr>\n",
              "    <tr>\n",
              "      <th>13</th>\n",
              "      <td>Catalunya</td>\n",
              "      <td>Generación renovable</td>\n",
              "      <td>8.398714e+06</td>\n",
              "      <td>2020-01-01 00:00:00+01:00</td>\n",
              "    </tr>\n",
              "    <tr>\n",
              "      <th>14</th>\n",
              "      <td>Catalunya</td>\n",
              "      <td>Generación renovable</td>\n",
              "      <td>6.777598e+06</td>\n",
              "      <td>2021-01-01 00:00:00+01:00</td>\n",
              "    </tr>\n",
              "    <tr>\n",
              "      <th>15</th>\n",
              "      <td>Catalunya</td>\n",
              "      <td>Generación no renovable</td>\n",
              "      <td>3.744653e+07</td>\n",
              "      <td>2017-01-01 00:00:00+01:00</td>\n",
              "    </tr>\n",
              "    <tr>\n",
              "      <th>16</th>\n",
              "      <td>Catalunya</td>\n",
              "      <td>Generación no renovable</td>\n",
              "      <td>3.363354e+07</td>\n",
              "      <td>2018-01-01 00:00:00+01:00</td>\n",
              "    </tr>\n",
              "    <tr>\n",
              "      <th>17</th>\n",
              "      <td>Catalunya</td>\n",
              "      <td>Generación no renovable</td>\n",
              "      <td>3.794563e+07</td>\n",
              "      <td>2019-01-01 00:00:00+01:00</td>\n",
              "    </tr>\n",
              "    <tr>\n",
              "      <th>18</th>\n",
              "      <td>Catalunya</td>\n",
              "      <td>Generación no renovable</td>\n",
              "      <td>3.455957e+07</td>\n",
              "      <td>2020-01-01 00:00:00+01:00</td>\n",
              "    </tr>\n",
              "    <tr>\n",
              "      <th>19</th>\n",
              "      <td>Catalunya</td>\n",
              "      <td>Generación no renovable</td>\n",
              "      <td>3.309938e+07</td>\n",
              "      <td>2021-01-01 00:00:00+01:00</td>\n",
              "    </tr>\n",
              "  </tbody>\n",
              "</table>\n",
              "</div>"
            ],
            "text/plain": [
              "         CCAA                     Type         Valor                  Datetime\n",
              "0      Aragón     Generación renovable  7.462987e+06 2017-01-01 00:00:00+01:00\n",
              "1      Aragón     Generación renovable  8.564999e+06 2018-01-01 00:00:00+01:00\n",
              "2      Aragón     Generación renovable  8.293142e+06 2019-01-01 00:00:00+01:00\n",
              "3      Aragón     Generación renovable  1.233336e+07 2020-01-01 00:00:00+01:00\n",
              "4      Aragón     Generación renovable  1.513617e+07 2021-01-01 00:00:00+01:00\n",
              "5      Aragón  Generación no renovable  9.271154e+06 2017-01-01 00:00:00+01:00\n",
              "6      Aragón  Generación no renovable  6.632646e+06 2018-01-01 00:00:00+01:00\n",
              "7      Aragón  Generación no renovable  7.058639e+06 2019-01-01 00:00:00+01:00\n",
              "8      Aragón  Generación no renovable  5.718906e+06 2020-01-01 00:00:00+01:00\n",
              "9      Aragón  Generación no renovable  4.342064e+06 2021-01-01 00:00:00+01:00\n",
              "10  Catalunya     Generación renovable  7.359630e+06 2017-01-01 00:00:00+01:00\n",
              "11  Catalunya     Generación renovable  8.840418e+06 2018-01-01 00:00:00+01:00\n",
              "12  Catalunya     Generación renovable  7.261328e+06 2019-01-01 00:00:00+01:00\n",
              "13  Catalunya     Generación renovable  8.398714e+06 2020-01-01 00:00:00+01:00\n",
              "14  Catalunya     Generación renovable  6.777598e+06 2021-01-01 00:00:00+01:00\n",
              "15  Catalunya  Generación no renovable  3.744653e+07 2017-01-01 00:00:00+01:00\n",
              "16  Catalunya  Generación no renovable  3.363354e+07 2018-01-01 00:00:00+01:00\n",
              "17  Catalunya  Generación no renovable  3.794563e+07 2019-01-01 00:00:00+01:00\n",
              "18  Catalunya  Generación no renovable  3.455957e+07 2020-01-01 00:00:00+01:00\n",
              "19  Catalunya  Generación no renovable  3.309938e+07 2021-01-01 00:00:00+01:00"
            ]
          },
          "execution_count": 17,
          "metadata": {},
          "output_type": "execute_result"
        }
      ],
      "source": [
        "ccaa_df"
      ]
    }
  ],
  "metadata": {
    "colab": {
      "name": "lab05 - Fetch data",
      "provenance": []
    },
    "kernelspec": {
      "display_name": "Python 3.9.5 ('the_bridge_22')",
      "language": "python",
      "name": "python3"
    },
    "language_info": {
      "codemirror_mode": {
        "name": "ipython",
        "version": 3
      },
      "file_extension": ".py",
      "mimetype": "text/x-python",
      "name": "python",
      "nbconvert_exporter": "python",
      "pygments_lexer": "ipython3",
      "version": "3.9.5"
    },
    "vscode": {
      "interpreter": {
        "hash": "1c79a6bee0cc3880bade9bffe4f2ea0bcfc562fd81915ef930f986f3657b2ce7"
      }
    }
  },
  "nbformat": 4,
  "nbformat_minor": 0
}
