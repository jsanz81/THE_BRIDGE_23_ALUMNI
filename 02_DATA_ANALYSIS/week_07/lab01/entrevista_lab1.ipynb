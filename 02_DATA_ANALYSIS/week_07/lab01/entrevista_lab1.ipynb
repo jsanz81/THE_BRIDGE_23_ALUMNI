{
 "cells": [
  {
   "cell_type": "code",
   "execution_count": 4,
   "metadata": {},
   "outputs": [],
   "source": [
    "import pandas as pd\n",
    "import numpy as np\n",
    "import os"
   ]
  },
  {
   "cell_type": "code",
   "execution_count": 9,
   "metadata": {},
   "outputs": [],
   "source": [
    "def create_dataframe(ficheros_list):\n",
    "    '''\n",
    "    Params:\n",
    "        fichero list\n",
    "    '''\n",
    "    global df_list\n",
    "    if isinstance(ficheros_list, list):\n",
    "        try:\n",
    "            df_list = list()\n",
    "            for idx, f in enumerate(ficheros_list):\n",
    "                df_temp = pd.read_csv(os.path.join('data',f))\n",
    "                df_list.append(df_temp)\n",
    "        except Exception as e:\n",
    "            print(e)    \n",
    "    else:\n",
    "        \"Solo admite ficheros en lista\""
   ]
  },
  {
   "cell_type": "code",
   "execution_count": 7,
   "metadata": {},
   "outputs": [],
   "source": [
    "lista_ficheros = os.listdir(\"data\")\n",
    "create_dataframe(lista_ficheros)"
   ]
  },
  {
   "cell_type": "code",
   "execution_count": 17,
   "metadata": {},
   "outputs": [],
   "source": [
    "import sqlite3"
   ]
  },
  {
   "cell_type": "code",
   "execution_count": 32,
   "metadata": {},
   "outputs": [
    {
     "data": {
      "text/plain": [
       "array([100896, 4, '05/15/2023', 50, 100275, 33, '01/21/2023', 5, 100919,\n",
       "       34, '01/20/2023', 50, 100983, 82, '04/11/2023', 20, 100537, 96,\n",
       "       '05/01/2023', 15, 100279, 98, '03/04/2023', 30, 100121, 104,\n",
       "       '01/18/2023', 15, 100971, 109, '02/18/2023', 5, 100623, 117,\n",
       "       '03/28/2023', 50, 100262, 120, '04/07/2023', 40, 100071, 129,\n",
       "       '02/28/2023', 30, 100561, 133, '01/05/2023', 30, 100741, 177,\n",
       "       '04/13/2023', 20, 100658, 187, '04/15/2023', 30, 100563, 188,\n",
       "       '05/04/2023', 50, 100603, 205, '01/05/2023', 15, 100236, 210,\n",
       "       '05/24/2023', 10, 100464, 215, '01/19/2023', 20, 100106, 219,\n",
       "       '02/02/2023', 30, 100830, 231, '03/08/2023', 10, 100540, 233,\n",
       "       '02/19/2023', 5, 100201, 247, '04/25/2023', 20, 100354, 249,\n",
       "       '03/04/2023', 10, 100426, 253, '04/17/2023', 5, 100903, 285,\n",
       "       '05/22/2023', 15, 100203, 290, '02/05/2023', 15, 100877, 331,\n",
       "       '02/08/2023', 40, 100049, 401, '04/02/2023', 30, 100821, 409,\n",
       "       '05/27/2023', 30, 100847, 412, '01/20/2023', 40, 100287, 433,\n",
       "       '03/12/2023', 50, 100558, 444, '01/27/2023', 40, 100212, 449,\n",
       "       '04/09/2023', 5, 100031, 464, '01/12/2023', 30, 100451, 493,\n",
       "       '02/21/2023', 40, 100090, 505, '05/25/2023', 5, 100782, 513,\n",
       "       '02/24/2023', 5, 100240, 529, '03/26/2023', 50, 100402, 535,\n",
       "       '03/09/2023', 5, 100998, 538, '01/03/2023', 30, 100341, 542,\n",
       "       '03/25/2023', 30, 100734, 545, '04/09/2023', 10, 100335, 560,\n",
       "       '03/13/2023', 40, 100182, 563, '03/22/2023', 20, 100127, 571,\n",
       "       '01/28/2023', 40, 100568, 586, '04/09/2023', 5, 100685, 587,\n",
       "       '03/08/2023', 30, 100019, 596, '03/11/2023', 50, 100532, 597,\n",
       "       '04/03/2023', 15, 100072, 600, '02/07/2023', 20], dtype=object)"
      ]
     },
     "execution_count": 32,
     "metadata": {},
     "output_type": "execute_result"
    }
   ],
   "source": [
    "list() df_list[1].values"
   ]
  },
  {
   "cell_type": "code",
   "execution_count": 39,
   "metadata": {},
   "outputs": [
    {
     "data": {
      "text/plain": [
       "dtype('O')"
      ]
     },
     "execution_count": 39,
     "metadata": {},
     "output_type": "execute_result"
    }
   ],
   "source": [
    "df_list[0].dtypes[2]"
   ]
  },
  {
   "cell_type": "code",
   "execution_count": 78,
   "metadata": {},
   "outputs": [],
   "source": [
    "dtype_mapping = {\n",
    "    'object': 'TEXT',\n",
    "    'int64': 'INT',\n",
    "    'int32': 'INT',\n",
    "    'float64': 'REAL',\n",
    "    'float32': 'REAL',\n",
    "    'bool': 'INTEGER',\n",
    "    'datetime64[ns]': 'NUMERIC',\n",
    "    'date': 'NUMERIC',\n",
    "    'time': 'NUMERIC',\n",
    "    'str' : 'BLOB'\n",
    "}"
   ]
  },
  {
   "cell_type": "code",
   "execution_count": 42,
   "metadata": {},
   "outputs": [
    {
     "data": {
      "text/plain": [
       "Unnamed: 0          int64\n",
       "customer_id         int64\n",
       "birthday           object\n",
       "country            object\n",
       "spanish_speaker      bool\n",
       "join_date          object\n",
       "tier               object\n",
       "dtype: object"
      ]
     },
     "execution_count": 42,
     "metadata": {},
     "output_type": "execute_result"
    }
   ],
   "source": [
    "df_list[0].dtypes"
   ]
  },
  {
   "cell_type": "code",
   "execution_count": 44,
   "metadata": {},
   "outputs": [
    {
     "data": {
      "text/plain": [
       "Index(['Unnamed: 0', 'customer_id', 'birthday', 'country', 'spanish_speaker',\n",
       "       'join_date', 'tier'],\n",
       "      dtype='object')"
      ]
     },
     "execution_count": 44,
     "metadata": {},
     "output_type": "execute_result"
    }
   ],
   "source": [
    "df_list[0].columns"
   ]
  },
  {
   "cell_type": "code",
   "execution_count": 93,
   "metadata": {},
   "outputs": [],
   "source": [
    "def insert_sql_table(df_in_list, db_name=None, db_table_name=None):\n",
    "    '''\n",
    "    INSERT SQL TABLE\n",
    "    '''\n",
    "    if not db_name is None:\n",
    "        conn = sqlite3.connect(db_name)\n",
    "        cursor = conn.cursor()\n",
    "           \n",
    "        if isinstance(df_in_list, list):\n",
    "            try:\n",
    "                for dfl in df_in_list:\n",
    "                    # Generate values\n",
    "                    column_names = dfl.columns.tolist()\n",
    "                    data_types = dfl.dtypes.tolist()\n",
    "                    values = dfl.values.tolist()\n",
    "\n",
    "                    for table in db_table_name:\n",
    "                        table_name = table.split('-')[0].strip()\n",
    "                        # Generate the CREATE TABLE statement\n",
    "                        create_table_query = f\"CREATE TABLE IF NOT EXISTS {table_name} (\"\n",
    "                        for column, dtype in zip(column_names, data_types):\n",
    "                            sql_dtype = dtype_mapping.get(str(dtype), 'VARCHAR')\n",
    "                            create_table_query += f\"{column} {sql_dtype}, \"\n",
    "                        create_table_query = create_table_query.rstrip(\", \") + \")\"\n",
    "                        \n",
    "                        cursor.execute(create_table_query)\n",
    "                        # Guardamos los cambios haciendo un commit\n",
    "                        conn.commit()\n",
    "                        \n",
    "                        insert_query = f\"INSERT INTO {table_name} ({', '.join(column_names)}) VALUES \"\n",
    "                        insert_values = []\n",
    "                        for row in values:\n",
    "                            row_values = [f\"'{value}'\" if isinstance(value, str) else str(value) for value in row]\n",
    "                            insert_values.append(\"(\" + \", \".join(row_values) + \")\")\n",
    "                        insert_query += \", \".join(insert_values)\n",
    "\n",
    "                        # Execute the INSERT INTO statement\n",
    "                        cursor.execute(insert_query)\n",
    "                        \n",
    "                        # Guardamos los cambios haciendo un commit\n",
    "                        conn.commit()\n",
    "            except Exception as e:\n",
    "                print(e)\n",
    "            \n",
    "            finally:\n",
    "                conn.close()\n",
    "        else:\n",
    "            \"Se requiere un fichero en lista\""
   ]
  },
  {
   "cell_type": "code",
   "execution_count": 94,
   "metadata": {},
   "outputs": [
    {
     "name": "stdout",
     "output_type": "stream",
     "text": [
      "unrecognized token: \":\"\n"
     ]
    }
   ],
   "source": [
    "insert_sql_table(df_list, db_name='carrefive.db', db_table_name=lista_ficheros)"
   ]
  },
  {
   "cell_type": "code",
   "execution_count": 95,
   "metadata": {},
   "outputs": [
    {
     "data": {
      "text/html": [
       "<div>\n",
       "<style scoped>\n",
       "    .dataframe tbody tr th:only-of-type {\n",
       "        vertical-align: middle;\n",
       "    }\n",
       "\n",
       "    .dataframe tbody tr th {\n",
       "        vertical-align: top;\n",
       "    }\n",
       "\n",
       "    .dataframe thead th {\n",
       "        text-align: right;\n",
       "    }\n",
       "</style>\n",
       "<table border=\"1\" class=\"dataframe\">\n",
       "  <thead>\n",
       "    <tr style=\"text-align: right;\">\n",
       "      <th></th>\n",
       "      <th>type</th>\n",
       "      <th>name</th>\n",
       "      <th>tbl_name</th>\n",
       "      <th>rootpage</th>\n",
       "      <th>sql</th>\n",
       "    </tr>\n",
       "  </thead>\n",
       "  <tbody>\n",
       "  </tbody>\n",
       "</table>\n",
       "</div>"
      ],
      "text/plain": [
       "Empty DataFrame\n",
       "Columns: [type, name, tbl_name, rootpage, sql]\n",
       "Index: []"
      ]
     },
     "execution_count": 95,
     "metadata": {},
     "output_type": "execute_result"
    }
   ],
   "source": [
    "# Realizamos la conexión\n",
    "\n",
    "conn = sqlite3.connect(\"carrefive.db\")\n",
    "\n",
    "tables = pd.read_sql(\"\"\" select *\n",
    "                        from sqlite_master \n",
    "                        where type='table'\n",
    "                        order by name;\n",
    "                        \"\"\", conn)\n",
    "tables"
   ]
  }
 ],
 "metadata": {
  "kernelspec": {
   "display_name": "ramp_up_py395",
   "language": "python",
   "name": "python3"
  },
  "language_info": {
   "codemirror_mode": {
    "name": "ipython",
    "version": 3
   },
   "file_extension": ".py",
   "mimetype": "text/x-python",
   "name": "python",
   "nbconvert_exporter": "python",
   "pygments_lexer": "ipython3",
   "version": "3.9.5"
  },
  "orig_nbformat": 4
 },
 "nbformat": 4,
 "nbformat_minor": 2
}
